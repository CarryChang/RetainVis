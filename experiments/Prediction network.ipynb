{
 "cells": [
  {
   "cell_type": "code",
   "execution_count": 1,
   "metadata": {
    "collapsed": true
   },
   "outputs": [],
   "source": [
    "import torch\n",
    "from torch import optim,nn\n",
    "from torch.autograd import Variable\n",
    "import numpy as np\n",
    "import time\n",
    "import os\n",
    "os.chdir('/home/mjc/github/EHRVis/')\n",
    "from models.data_loader import DataLoader\n",
    "from models.retain_bidirectional import RETAIN"
   ]
  },
  {
   "cell_type": "code",
   "execution_count": 2,
   "metadata": {},
   "outputs": [
    {
     "name": "stdout",
     "output_type": "stream",
     "text": [
      "env: CUDA_DEVICE_ORDER=PCI_BUS_ID\n",
      "env: CUDA_VISIBLE_DEVICES=3\n"
     ]
    }
   ],
   "source": [
    "%env CUDA_DEVICE_ORDER=PCI_BUS_ID\n",
    "%env CUDA_VISIBLE_DEVICES=3"
   ]
  },
  {
   "cell_type": "code",
   "execution_count": 36,
   "metadata": {},
   "outputs": [],
   "source": [
    "model = torch.load('data/saved_weights/retain_bi_5000.pth')\n",
    "model.eval()\n",
    "model.release=True"
   ]
  },
  {
   "cell_type": "code",
   "execution_count": 4,
   "metadata": {
    "collapsed": true
   },
   "outputs": [],
   "source": [
    "import pickle\n",
    "with open('data/preprocessed/2014_out_dict.pckl','rb') as f:\n",
    "    out_dict = pickle.load(f)"
   ]
  },
  {
   "cell_type": "code",
   "execution_count": 44,
   "metadata": {
    "scrolled": true
   },
   "outputs": [],
   "source": [
    "jid = 12\n",
    "input_list = []\n",
    "targets = []\n",
    "for tup in out_dict[jid]:\n",
    "    input_list.append(tup[2])\n",
    "    targets.append(tup[3])\n",
    "input_list = [input_list]\n",
    "targets = [targets]"
   ]
  },
  {
   "cell_type": "code",
   "execution_count": 45,
   "metadata": {},
   "outputs": [
    {
     "name": "stdout",
     "output_type": "stream",
     "text": [
      "Top 5 predictions:  \n",
      " 132  139  136  184  101\n",
      "[torch.cuda.LongTensor of size 1x5 (GPU 0)]\n",
      "\n",
      "Answer:  132\n"
     ]
    },
    {
     "name": "stderr",
     "output_type": "stream",
     "text": [
      "/home/mjc/github/EHRVis/models/retain_bidirectional.py:35: UserWarning: RNN module weights are not part of single contiguous chunk of memory. This means they need to be compacted at every call, possibly greately increasing memory usage. To compact weights again call flatten_parameters().\n",
      "  outputs1 = self.RNN1(embedded) # [b x seq x 128*2]\n",
      "/home/mjc/github/EHRVis/models/retain_bidirectional.py:43: UserWarning: RNN module weights are not part of single contiguous chunk of memory. This means they need to be compacted at every call, possibly greately increasing memory usage. To compact weights again call flatten_parameters().\n",
      "  outputs2 = self.RNN2(embedded) # [b x seq x 128]\n"
     ]
    }
   ],
   "source": [
    "inputs = model.list_to_tensor(input_list)\n",
    "outputs = model(inputs)\n",
    "targets = torch.LongTensor(targets).view(len(inputs),-1)[:,-1] # to only use last of each sequence\n",
    "top5 = outputs.topk(5)[1].data\n",
    "print(\"Top 5 predictions: \",top5)\n",
    "print(\"Answer: \", targets[0])"
   ]
  },
  {
   "cell_type": "code",
   "execution_count": 92,
   "metadata": {},
   "outputs": [],
   "source": [
    "# create random list\n",
    "x_val = list(np.random.uniform(0,1,1400))\n",
    "y_val = list(np.random.uniform(0,1,1400))\n",
    "pos = dict()\n",
    "for i in range(1400):\n",
    "    pos[i]=[x_val[i],y_val[i]]"
   ]
  },
  {
   "cell_type": "code",
   "execution_count": 76,
   "metadata": {
    "scrolled": true
   },
   "outputs": [],
   "source": [
    "# calculate scores for top5\n",
    "import numpy as np\n",
    "scores = np.zeros((5,1400))\n",
    "for t,pred in enumerate(top5.tolist()[0]):\n",
    "    for v,visit in enumerate(input_list[0]):\n",
    "        for i in visit:\n",
    "            val = model.interpret(0,v,i,pred).data[0]\n",
    "            scores[t,i] += val"
   ]
  },
  {
   "cell_type": "code",
   "execution_count": 143,
   "metadata": {},
   "outputs": [],
   "source": [
    "# create edge list\n",
    "edge_list = []\n",
    "for t,pred in enumerate(top5.tolist()[0][0:1]):\n",
    "    pred += 500 # to fit to index of 1400 items\n",
    "    for i in range(1400):\n",
    "        val = scores[t,i]\n",
    "        if np.absolute(val)>0.01:\n",
    "            edge_list.append((i,pred,{'Weight':val}))\n",
    "G = nx.Graph()\n",
    "G.add_edges_from(edge_list)"
   ]
  },
  {
   "cell_type": "code",
   "execution_count": 144,
   "metadata": {},
   "outputs": [],
   "source": [
    "# import networkx\n",
    "import networkx as nx\n",
    "import matplotlib.pyplot as plt\n",
    "%matplotlib inline"
   ]
  },
  {
   "cell_type": "code",
   "execution_count": 145,
   "metadata": {},
   "outputs": [],
   "source": [
    "# add features\n",
    "edge_width = [1*np.absolute(G[u][v]['Weight']) for u,v in G.edges()]\n",
    "edge_color = []\n",
    "for u,v in G.edges():\n",
    "    if G[u][v]['Weight']>0:\n",
    "        edge_color.append('r')\n",
    "    else:\n",
    "        edge_color.append('b')\n",
    "node_color = []\n",
    "for n in G.nodes():\n",
    "    if n<500:\n",
    "        c = 'g'\n",
    "    elif n<768:\n",
    "        c = 'r'\n",
    "    else:\n",
    "        c - 'y'\n",
    "    node_color.append(c)"
   ]
  },
  {
   "cell_type": "code",
   "execution_count": 146,
   "metadata": {},
   "outputs": [
    {
     "data": {
      "image/png": "[encoded data removed]",
      "text/plain": [
       "<matplotlib.figure.Figure at 0x7f2116de7128>"
      ]
     },
     "metadata": {},
     "output_type": "display_data"
    }
   ],
   "source": [
    "plt.figure(figsize=(10,7))\n",
    "plt.axis('off')\n",
    "plt.tight_layout()\n",
    "nx.draw_networkx(G,pos, width=edge_width, edge_color=edge_color, node_color=node_color)"
   ]
  },
  {
   "cell_type": "code",
   "execution_count": 156,
   "metadata": {},
   "outputs": [],
   "source": [
    "weights = model.emb.cpu().data.numpy()"
   ]
  },
  {
   "cell_type": "code",
   "execution_count": 160,
   "metadata": {},
   "outputs": [],
   "source": [
    "sqrt = np.sqrt(np.multiply(weights,weights).sum(1))"
   ]
  },
  {
   "cell_type": "code",
   "execution_count": 166,
   "metadata": {},
   "outputs": [],
   "source": [
    "normalized_weights = []\n",
    "for i,row in enumerate(weights):\n",
    "    normalized_weights.append(row/sqrt[i])\n",
    "normalized_weights = np.array(normalized_weights)"
   ]
  },
  {
   "cell_type": "code",
   "execution_count": 174,
   "metadata": {},
   "outputs": [],
   "source": [
    "sim = np.matmul(normalized_weights,normalized_weights.transpose())"
   ]
  },
  {
   "cell_type": "code",
   "execution_count": 175,
   "metadata": {},
   "outputs": [
    {
     "data": {
      "text/plain": [
       "array([[ 0.99999964,  0.07050041,  0.15158258, ..., -0.16219682,\n",
       "         0.01788227,  0.03803807],\n",
       "       [ 0.07050041,  0.99999988,  0.09286439, ...,  0.00698837,\n",
       "        -0.25490147, -0.04863826],\n",
       "       [ 0.15158258,  0.09286439,  1.00000036, ...,  0.00271488,\n",
       "         0.10594503,  0.0134569 ],\n",
       "       ..., \n",
       "       [-0.16219682,  0.00698837,  0.00271488, ...,  0.99999988,\n",
       "        -0.00309024,  0.05490997],\n",
       "       [ 0.01788227, -0.25490147,  0.10594503, ..., -0.00309024,\n",
       "         0.99999988,  0.16783057],\n",
       "       [ 0.03803807, -0.04863826,  0.0134569 , ...,  0.05490997,\n",
       "         0.16783057,  1.00000012]], dtype=float32)"
      ]
     },
     "execution_count": 175,
     "metadata": {},
     "output_type": "execute_result"
    }
   ],
   "source": [
    "plt."
   ]
  },
  {
   "cell_type": "code",
   "execution_count": null,
   "metadata": {
    "collapsed": true
   },
   "outputs": [],
   "source": []
  }
 ],
 "metadata": {
  "kernelspec": {
   "display_name": "Python [conda env:pytorch]",
   "language": "python",
   "name": "conda-env-pytorch-py"
  },
  "language_info": {
   "codemirror_mode": {
    "name": "ipython",
    "version": 3
   },
   "file_extension": ".py",
   "mimetype": "text/x-python",
   "name": "python",
   "nbconvert_exporter": "python",
   "pygments_lexer": "ipython3",
   "version": "3.5.4"
  }
 },
 "nbformat": 4,
 "nbformat_minor": 2
}
