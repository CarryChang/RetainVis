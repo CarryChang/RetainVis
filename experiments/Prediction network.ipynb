{
 "cells": [
  {
   "cell_type": "code",
   "execution_count": null,
   "metadata": {},
   "outputs": [],
   "source": [
    "import torch\n",
    "from torch import optim,nn\n",
    "from torch.autograd import Variable\n",
    "import numpy as np\n",
    "import time\n",
    "import networkx as nx\n",
    "import matplotlib.pyplot as plt\n",
    "%matplotlib inline\n",
    "import os\n",
    "os.chdir('/home/mjc/github/EHRVis/')\n",
    "from models.data_loader import DataLoader\n",
    "from models.retain_bidirectional import RETAIN\n",
    "from functions import get_classified_sickness, list_to_inputs_targets"
   ]
  },
  {
   "cell_type": "code",
   "execution_count": null,
   "metadata": {},
   "outputs": [],
   "source": [
    "# set CUDA device\n",
    "%env CUDA_DEVICE_ORDER=PCI_BUS_ID\n",
    "%env CUDA_VISIBLE_DEVICES=0"
   ]
  },
  {
   "cell_type": "code",
   "execution_count": null,
   "metadata": {
    "collapsed": true
   },
   "outputs": [],
   "source": [
    "# load model\n",
    "model = RETAIN(128,128,268,True)\n",
    "model.cuda()\n",
    "model.load_state_dict(torch.load('data/saved_weights/retain_bi_14500.pth'))\n",
    "model.eval()\n",
    "model.release=True"
   ]
  },
  {
   "cell_type": "markdown",
   "metadata": {},
   "source": [
    "### Aggregate of different patients related to a single disease"
   ]
  },
  {
   "cell_type": "code",
   "execution_count": null,
   "metadata": {
    "collapsed": true
   },
   "outputs": [],
   "source": [
    "# load input file\n",
    "import pickle\n",
    "with open('data/preprocessed/2014_out_dict.pckl','rb') as f:\n",
    "    out_dict = pickle.load(f)"
   ]
  },
  {
   "cell_type": "code",
   "execution_count": null,
   "metadata": {},
   "outputs": [],
   "source": [
    "# load patient list\n",
    "import pickle\n",
    "with open('data/preprocessed/jid_alzheimer.pckl','rb') as f:\n",
    "    jids = pickle.load(f)\n",
    "\n",
    "# get target disease\n",
    "code = get_classified_sickness('G00')\n",
    "print(code)"
   ]
  },
  {
   "cell_type": "code",
   "execution_count": null,
   "metadata": {
    "collapsed": true
   },
   "outputs": [],
   "source": [
    "# create random list for coordinates\n",
    "x_val = list(np.random.uniform(0,1,1400))\n",
    "y_val = list(np.random.uniform(0,1,1400))\n",
    "pos = dict()\n",
    "for i in range(1400):\n",
    "    pos[i]=[x_val[i],y_val[i]]"
   ]
  },
  {
   "cell_type": "code",
   "execution_count": null,
   "metadata": {
    "scrolled": true
   },
   "outputs": [],
   "source": [
    "# create scores\n",
    "scores = np.zeros((268,1400))\n",
    "counts = np.zeros((268,1400),dtype=int)\n",
    "for i,jid in enumerate(jids):\n",
    "    print(i+1,jid)\n",
    "    try:\n",
    "        out_list = out_dict[jid]\n",
    "        if len(out_list)>1:\n",
    "            # get list and put into model to get outputs\n",
    "            input_list,targets = list_to_inputs_targets(out_list)\n",
    "            inputs = model.list_to_tensor([input_list])\n",
    "            outputs = model(inputs)\n",
    "\n",
    "            # add to scores\n",
    "            for v, visit in enumerate(input_list):\n",
    "                for item in visit:\n",
    "#                     counts[code,item]+=1\n",
    "                    val = model.interpret(0,v,item,code).data[0]\n",
    "                    if val!=0.0:\n",
    "                        counts[code,item]+=1\n",
    "                    scores[code,item]+= val\n",
    "                    \n",
    "    except KeyError:\n",
    "        continue"
   ]
  },
  {
   "cell_type": "code",
   "execution_count": null,
   "metadata": {},
   "outputs": [],
   "source": [
    "# normalize scores\n",
    "normalized_scores = scores[code]\n",
    "for i, val in enumerate(normalized_scores):\n",
    "    c = counts[code,i]\n",
    "    if c>0:\n",
    "        normalized_scores[i] /= c\n",
    "print(normalized_scores.max())\n",
    "print(normalized_scores.min())"
   ]
  },
  {
   "cell_type": "code",
   "execution_count": null,
   "metadata": {},
   "outputs": [],
   "source": [
    "# create edgelist\n",
    "edge_list = []\n",
    "for i in range(1400):\n",
    "    val = normalized_scores[i]\n",
    "    if np.absolute(val)>0.001:\n",
    "        edge_list.append((i,code+500,{'Weight':val}))\n",
    "G = nx.DiGraph()\n",
    "G.add_edges_from(edge_list)"
   ]
  },
  {
   "cell_type": "code",
   "execution_count": null,
   "metadata": {
    "collapsed": true
   },
   "outputs": [],
   "source": [
    "# add features\n",
    "edge_width = [1*np.absolute(G[u][v]['Weight']) for u,v in G.edges()]\n",
    "edge_color = []\n",
    "for u,v in G.edges():\n",
    "    if G[u][v]['Weight']>0:\n",
    "        edge_color.append('r')\n",
    "    else:\n",
    "        edge_color.append('b')\n",
    "node_color = []\n",
    "for n in G.nodes():\n",
    "    if n<500:\n",
    "        c = 'g'\n",
    "    elif n<768:\n",
    "        c = 'r'\n",
    "    else:\n",
    "        c - 'y'\n",
    "    node_color.append(c)\n",
    "node_size = [counts[:,i].sum()*0.05 for i in range(1400)]"
   ]
  },
  {
   "cell_type": "code",
   "execution_count": null,
   "metadata": {},
   "outputs": [],
   "source": [
    "# draw network\n",
    "plt.figure(figsize=(10,7))\n",
    "plt.axis('off')\n",
    "plt.tight_layout()\n",
    "nx.draw_networkx(G,pos, width=edge_width, edge_color=edge_color, \n",
    "                 node_color=node_color, node_size=node_size)"
   ]
  },
  {
   "cell_type": "markdown",
   "metadata": {},
   "source": [
    "### Aggregate of different patients with different diseases"
   ]
  },
  {
   "cell_type": "code",
   "execution_count": null,
   "metadata": {
    "collapsed": true
   },
   "outputs": [],
   "source": [
    "# load input file\n",
    "import pickle\n",
    "with open('data/preprocessed/2014_out_dict.pckl','rb') as f:\n",
    "    out_dict = pickle.load(f)"
   ]
  },
  {
   "cell_type": "code",
   "execution_count": null,
   "metadata": {
    "scrolled": true
   },
   "outputs": [],
   "source": [
    "# create scores\n",
    "scores = np.zeros((268,1400))\n",
    "counts = np.zeros((268,1400),dtype=int)\n",
    "jids = np.arange(10000) # 100,000 patients\n",
    "for i,jid in enumerate(jids):\n",
    "    if i%100==0:\n",
    "        print(i+1)\n",
    "    try:\n",
    "        out_list = out_dict[jid]\n",
    "        if len(out_list)>1:\n",
    "            # get list and put into model to get outputs\n",
    "            input_list,targets = list_to_inputs_targets(out_list)\n",
    "            inputs = model.list_to_tensor([input_list])\n",
    "            outputs = model(inputs)\n",
    "            code = targets[-1]\n",
    "\n",
    "            # add to scores\n",
    "            for v, visit in enumerate(input_list):\n",
    "                for item in visit:\n",
    "                    val = model.interpret(0,v,item,code).data[0]\n",
    "                    if np.absolute(val)>=0.01:\n",
    "                        counts[code,item]+=1\n",
    "#                     scores[code,item]+= np.absolute(val)\n",
    "                    scores[code,item]+= val\n",
    "                    \n",
    "    except KeyError:\n",
    "        continue"
   ]
  },
  {
   "cell_type": "code",
   "execution_count": null,
   "metadata": {},
   "outputs": [],
   "source": [
    "# normalize scores\n",
    "normalized_scores = np.array(scores)\n",
    "row, col = normalized_scores.shape\n",
    "\n",
    "for i in range(row):\n",
    "    for j in range(col):\n",
    "        c = counts[i,j]\n",
    "        if c>0:\n",
    "            normalized_scores[i,j] = scores[i,j]/c\n",
    "print(normalized_scores.max())\n",
    "print(normalized_scores.min())"
   ]
  },
  {
   "cell_type": "code",
   "execution_count": null,
   "metadata": {
    "collapsed": true
   },
   "outputs": [],
   "source": [
    "with open('data/postprocessed/scores.pckl','wb') as f:\n",
    "    pickle.dump(scores,f)\n",
    "with open('data/postprocessed/counts.pckl','wb') as f:\n",
    "    pickle.dump(counts,f)"
   ]
  },
  {
   "cell_type": "code",
   "execution_count": null,
   "metadata": {},
   "outputs": [],
   "source": [
    "# create edgelist\n",
    "edge_list = []\n",
    "for code in range(268):\n",
    "    for i in range(1400):\n",
    "        val = normalized_scores[code,i]\n",
    "        if np.absolute(val)>1:\n",
    "            edge_list.append((i,code+500,{'Weight':val}))\n",
    "    G = nx.DiGraph()\n",
    "    G.add_edges_from(edge_list)"
   ]
  },
  {
   "cell_type": "code",
   "execution_count": null,
   "metadata": {},
   "outputs": [],
   "source": [
    "# add features\n",
    "edge_width = [1*np.absolute(G[u][v]['Weight']) for u,v in G.edges()]\n",
    "edge_color = []\n",
    "for u,v in G.edges():\n",
    "    if G[u][v]['Weight']>0:\n",
    "        edge_color.append('r')\n",
    "    else:\n",
    "        edge_color.append('b')\n",
    "node_color = []\n",
    "for n in G.nodes():\n",
    "    if n<500:\n",
    "        c = 'g'\n",
    "    elif n<768:\n",
    "        c = 'r'\n",
    "    else:\n",
    "        c - 'y'\n",
    "    node_color.append(c)\n",
    "node_size = [counts[:,i].sum()*0.02 for i in range(1400)]"
   ]
  },
  {
   "cell_type": "code",
   "execution_count": null,
   "metadata": {},
   "outputs": [],
   "source": [
    "# draw network\n",
    "plt.figure(figsize=(20,15))\n",
    "plt.axis('off')\n",
    "plt.tight_layout()\n",
    "nx.draw_networkx(G,pos, width=edge_width, edge_color=edge_color, \n",
    "                 node_color=node_color, node_size=node_size)"
   ]
  },
  {
   "cell_type": "code",
   "execution_count": null,
   "metadata": {
    "collapsed": true
   },
   "outputs": [],
   "source": []
  },
  {
   "cell_type": "code",
   "execution_count": null,
   "metadata": {
    "collapsed": true,
    "scrolled": true
   },
   "outputs": [],
   "source": [
    "# visualization of a single patient\n",
    "jid = 12\n",
    "input_list = []\n",
    "targets = []\n",
    "for tup in out_dict[jid]:\n",
    "    input_list.append(tup[2])\n",
    "    targets.append(tup[3])\n",
    "input_list = [input_list]\n",
    "targets = [targets]"
   ]
  },
  {
   "cell_type": "code",
   "execution_count": null,
   "metadata": {
    "collapsed": true
   },
   "outputs": [],
   "source": [
    "with open('data/dictionaries/sick_idx2desc.pckl','rb') as f:\n",
    "    s2i = pickle.load(f)"
   ]
  },
  {
   "cell_type": "code",
   "execution_count": null,
   "metadata": {
    "collapsed": true
   },
   "outputs": [],
   "source": [
    "inputs = model.list_to_tensor(input_list)\n",
    "outputs = model(inputs)\n",
    "targets = torch.LongTensor(targets).view(len(inputs),-1)[:,-1] # to only use last of each sequence\n",
    "top5 = outputs.topk(5)[1].data\n",
    "print(\"Top 5 predictions: \",top5,[s2i[x+500] for x in top5.cpu().tolist()[0]])\n",
    "print(\"Answer: \", targets[0], s2i[targets[0]+500])"
   ]
  },
  {
   "cell_type": "code",
   "execution_count": null,
   "metadata": {
    "collapsed": true
   },
   "outputs": [],
   "source": [
    "input_list"
   ]
  },
  {
   "cell_type": "code",
   "execution_count": null,
   "metadata": {
    "collapsed": true
   },
   "outputs": [],
   "source": [
    "# create random list\n",
    "x_val = list(np.random.uniform(0,1,1400))\n",
    "y_val = list(np.random.uniform(0,1,1400))\n",
    "pos = dict()\n",
    "for i in range(1400):\n",
    "    pos[i]=[x_val[i],y_val[i]]"
   ]
  },
  {
   "cell_type": "code",
   "execution_count": null,
   "metadata": {
    "collapsed": true,
    "scrolled": true
   },
   "outputs": [],
   "source": [
    "# calculate scores for top5\n",
    "import numpy as np\n",
    "scores = np.zeros((5,1400))\n",
    "for t,pred in enumerate(top5.tolist()[0]):\n",
    "    for v,visit in enumerate(input_list[0]):\n",
    "        for i in visit:\n",
    "            val = model.interpret(0,v,i,pred).data[0]\n",
    "            scores[t,i] += val"
   ]
  },
  {
   "cell_type": "code",
   "execution_count": null,
   "metadata": {
    "collapsed": true
   },
   "outputs": [],
   "source": [
    "# create edge list\n",
    "edge_list = []\n",
    "for t,pred in enumerate(top5.tolist()[0][2:3]):\n",
    "    pred += 500 # to fit to index of 1400 items\n",
    "    for i in range(1400):\n",
    "        val = scores[t,i]\n",
    "        if np.absolute(val)>0.01:\n",
    "            edge_list.append((i,pred,{'Weight':val}))\n",
    "G = nx.Graph()\n",
    "G.add_edges_from(edge_list)"
   ]
  },
  {
   "cell_type": "code",
   "execution_count": null,
   "metadata": {
    "collapsed": true
   },
   "outputs": [],
   "source": [
    "# import networkx\n",
    "import networkx as nx\n",
    "import matplotlib.pyplot as plt\n",
    "%matplotlib inline"
   ]
  },
  {
   "cell_type": "code",
   "execution_count": null,
   "metadata": {
    "collapsed": true
   },
   "outputs": [],
   "source": [
    "# add features\n",
    "edge_width = [1*np.absolute(G[u][v]['Weight']) for u,v in G.edges()]\n",
    "edge_color = []\n",
    "for u,v in G.edges():\n",
    "    if G[u][v]['Weight']>0:\n",
    "        edge_color.append('r')\n",
    "    else:\n",
    "        edge_color.append('b')\n",
    "node_color = []\n",
    "for n in G.nodes():\n",
    "    if n<500:\n",
    "        c = 'g'\n",
    "    elif n<768:\n",
    "        c = 'r'\n",
    "    else:\n",
    "        c - 'y'\n",
    "    node_color.append(c)"
   ]
  },
  {
   "cell_type": "code",
   "execution_count": null,
   "metadata": {
    "collapsed": true
   },
   "outputs": [],
   "source": [
    "plt.figure(figsize=(10,7))\n",
    "plt.axis('off')\n",
    "plt.tight_layout()\n",
    "nx.draw_networkx(G,pos, width=edge_width, edge_color=edge_color, node_color=node_color)"
   ]
  },
  {
   "cell_type": "code",
   "execution_count": null,
   "metadata": {
    "collapsed": true
   },
   "outputs": [],
   "source": [
    "# interpret\n",
    "print(s2i[601])\n",
    "print(s2i[593])"
   ]
  },
  {
   "cell_type": "code",
   "execution_count": null,
   "metadata": {
    "collapsed": true,
    "scrolled": true
   },
   "outputs": [],
   "source": [
    "# obtaining overall graph for Alzheimer's disease\n",
    "import time\n",
    "start = time.time()\n",
    "import pickle\n",
    "with open('data/preprocessed/jid_alzheimer.pckl','rb') as f:\n",
    "    jids = pickle.load(f)\n",
    "\n",
    "scores = np.zeros((268,1400))\n",
    "counts = np.zeros((268,1400),dtype=int)\n",
    "for jid in jids:\n",
    "    print(jid)\n",
    "    input_list = []\n",
    "    targets = []\n",
    "    try:\n",
    "        for tup in out_dict[jid]:\n",
    "            input_list.append(tup[2])\n",
    "        if input_list == []:\n",
    "            continue\n",
    "        input_list = [input_list]\n",
    "        target = tup[3]\n",
    "        inputs = model.list_to_tensor(input_list)\n",
    "        outputs = model(inputs)\n",
    "        \n",
    "        # add to scores\n",
    "        for v,visit in enumerate(input_list[0]):\n",
    "            for i in visit:\n",
    "                counts[target,i]+=1\n",
    "                val = model.interpret(0,v,i,target).data[0]\n",
    "                scores[target,i] += val\n",
    "    except KeyError:\n",
    "        continue    "
   ]
  },
  {
   "cell_type": "code",
   "execution_count": null,
   "metadata": {
    "collapsed": true
   },
   "outputs": [],
   "source": [
    "scores.shape"
   ]
  },
  {
   "cell_type": "code",
   "execution_count": null,
   "metadata": {
    "collapsed": true
   },
   "outputs": [],
   "source": [
    "# create edge list\n",
    "edge_list = []\n",
    "t = 50\n",
    "for i in range(1400):\n",
    "    val = scores[t,i]\n",
    "    if np.absolute(val)>0.01:\n",
    "        edge_list.append((i,t+500,{'Weight':val}))\n",
    "G = nx.Graph()\n",
    "G.add_edges_from(edge_list)"
   ]
  },
  {
   "cell_type": "code",
   "execution_count": null,
   "metadata": {
    "collapsed": true
   },
   "outputs": [],
   "source": [
    "# add features\n",
    "edge_width = [1*np.absolute(G[u][v]['Weight']) for u,v in G.edges()]\n",
    "edge_color = []\n",
    "for u,v in G.edges():\n",
    "    if G[u][v]['Weight']>0:\n",
    "        edge_color.append('r')\n",
    "    else:\n",
    "        edge_color.append('b')\n",
    "node_color = []\n",
    "for n in G.nodes():\n",
    "    if n<500:\n",
    "        c = 'g'\n",
    "    elif n<768:\n",
    "        c = 'r'\n",
    "    else:\n",
    "        c - 'y'\n",
    "    node_color.append(c)"
   ]
  },
  {
   "cell_type": "code",
   "execution_count": null,
   "metadata": {
    "collapsed": true
   },
   "outputs": [],
   "source": [
    "plt.figure(figsize=(10,7))\n",
    "plt.axis('off')\n",
    "plt.tight_layout()\n",
    "nx.draw_networkx(G,pos, width=edge_width, edge_color=edge_color, node_color=node_color)"
   ]
  },
  {
   "cell_type": "code",
   "execution_count": null,
   "metadata": {
    "collapsed": true
   },
   "outputs": [],
   "source": [
    "normalized_weights = []\n",
    "for i,row in enumerate(weights):\n",
    "    normalized_weights.append(row/sqrt[i])\n",
    "normalized_weights = np.array(normalized_weights)"
   ]
  },
  {
   "cell_type": "code",
   "execution_count": null,
   "metadata": {
    "collapsed": true
   },
   "outputs": [],
   "source": [
    "# sim = np.matmul(weights,weights.transpose())\n",
    "sim = np.matmul(normalized_weights,normalized_weights.transpose())"
   ]
  },
  {
   "cell_type": "code",
   "execution_count": null,
   "metadata": {
    "collapsed": true,
    "scrolled": false
   },
   "outputs": [],
   "source": [
    "plt.figure(figsize=(20,15))\n",
    "plt.imshow(sim,cmap='hot',interpolation='nearest')\n",
    "plt.show()"
   ]
  },
  {
   "cell_type": "code",
   "execution_count": null,
   "metadata": {
    "collapsed": true
   },
   "outputs": [],
   "source": []
  },
  {
   "cell_type": "code",
   "execution_count": null,
   "metadata": {
    "collapsed": true
   },
   "outputs": [],
   "source": []
  }
 ],
 "metadata": {
  "kernelspec": {
   "display_name": "Python [conda env:pytorch]",
   "language": "python",
   "name": "conda-env-pytorch-py"
  },
  "language_info": {
   "codemirror_mode": {
    "name": "ipython",
    "version": 3
   },
   "file_extension": ".py",
   "mimetype": "text/x-python",
   "name": "python",
   "nbconvert_exporter": "python",
   "pygments_lexer": "ipython3",
   "version": "3.5.4"
  }
 },
 "nbformat": 4,
 "nbformat_minor": 2
}
