{
 "cells": [
  {
   "cell_type": "code",
   "execution_count": 2,
   "metadata": {
    "collapsed": true
   },
   "outputs": [],
   "source": [
    "import pickle\n",
    "import os\n",
    "from collections import Counter\n",
    "os.chdir('..')"
   ]
  },
  {
   "cell_type": "code",
   "execution_count": null,
   "metadata": {
    "collapsed": false
   },
   "outputs": [],
   "source": [
    "# most frequent\n",
    "top1 = 0\n",
    "top5 = 0\n",
    "tot = 0\n",
    "years = [2014,2015]\n",
    "for year in years:\n",
    "    with open('data/preprocessed/%d_out_dict2.pckl' %year,'rb') as f:\n",
    "        out_dict = pickle.load(f)\n",
    "    for k,lst in out_dict.items():\n",
    "        if len(lst)<5:\n",
    "            continue\n",
    "        else:\n",
    "            trg = lst[-1][-1]\n",
    "            counter = Counter([x[-1] for x in lst[:-1]])\n",
    "            common = [x[0] for x in counter.most_common(5)]\n",
    "            if trg==common[0]:\n",
    "                top1+=1\n",
    "            if trg in common:\n",
    "                top5+=1\n",
    "            tot+=1\n",
    "print(\"Top-1 recall: %1.3f\" %(top1*1.0/tot))\n",
    "print(\"Top-5 recall: %1.3f\" %(top5*1.0/tot))"
   ]
  },
  {
   "cell_type": "code",
   "execution_count": null,
   "metadata": {
    "collapsed": false
   },
   "outputs": [],
   "source": [
    "# previous outcome\n",
    "top1 = 0\n",
    "top5 = 0\n",
    "tot = 0\n",
    "years = [2014,2015]\n",
    "for year in years:\n",
    "    with open('data/preprocessed/%d_out_dict2.pckl' %year,'rb') as f:\n",
    "        out_dict = pickle.load(f)\n",
    "    for k,lst in out_dict.items():\n",
    "        if len(lst)<5:\n",
    "            continue\n",
    "        else:\n",
    "            trg = lst[-1][-1]\n",
    "            if trg==lst[-2][-1]:\n",
    "                top1+=1\n",
    "            if trg in [x[-1] for x in lst[-7:-2]]:\n",
    "                top5+=1\n",
    "            tot+=1\n",
    "print(\"Top-1 recall: %1.3f\" %(top1*1.0/tot))\n",
    "print(\"Top-5 recall: %1.3f\" %(top5*1.0/tot))"
   ]
  },
  {
   "cell_type": "code",
   "execution_count": null,
   "metadata": {
    "collapsed": true
   },
   "outputs": [],
   "source": []
  }
 ],
 "metadata": {
  "kernelspec": {
   "display_name": "Python [ehr]",
   "language": "python",
   "name": "Python [ehr]"
  },
  "language_info": {
   "codemirror_mode": {
    "name": "ipython",
    "version": 3
   },
   "file_extension": ".py",
   "mimetype": "text/x-python",
   "name": "python",
   "nbconvert_exporter": "python",
   "pygments_lexer": "ipython3",
   "version": "3.5.4"
  }
 },
 "nbformat": 4,
 "nbformat_minor": 0
}
