{
 "cells": [
  {
   "cell_type": "code",
   "execution_count": 28,
   "metadata": {
    "collapsed": true
   },
   "outputs": [],
   "source": [
    "import torch\n",
    "from torch import nn\n",
    "import pickle\n",
    "import numpy as np\n",
    "from torch.autograd import Variable\n",
    "import os\n",
    "os.chdir('..')\n",
    "from models.retain_time import RETAIN"
   ]
  },
  {
   "cell_type": "code",
   "execution_count": 17,
   "metadata": {
    "collapsed": true
   },
   "outputs": [],
   "source": [
    "# in_list = []\n",
    "# with open('data/preprocessed/H26/list_data_2014.pckl','rb') as f:\n",
    "#     in_list.extend(pickle.load(f))\n",
    "# with open('data/preprocessed/H26/list_data_2015.pckl','rb') as f:\n",
    "#     in_list.extend(pickle.load(f))\n",
    "patient_list = [x[0][0] for x in in_list]"
   ]
  },
  {
   "cell_type": "code",
   "execution_count": 33,
   "metadata": {
    "collapsed": true
   },
   "outputs": [],
   "source": [
    "model = RETAIN(hidden_size=128,input_size=128,num_classes=1,decay_ver=2,bidirectional=True,cuda_flag=True)\n",
    "model.load_state_dict(torch.load('experiments/H26/saved_weights/time_2_best_cuda.pckl'))\n",
    "model.release = True"
   ]
  },
  {
   "cell_type": "code",
   "execution_count": 34,
   "metadata": {},
   "outputs": [
    {
     "data": {
      "text/plain": [
       "RETAIN(\n",
       "  (RNN1): TimeLSTM(\n",
       "    (W_all): Linear(in_features=128, out_features=512, bias=True)\n",
       "    (U_all): Linear(in_features=128, out_features=512, bias=True)\n",
       "    (W_d): Linear(in_features=128, out_features=128, bias=True)\n",
       "  )\n",
       "  (RNN2): TimeLSTM(\n",
       "    (W_all): Linear(in_features=128, out_features=512, bias=True)\n",
       "    (U_all): Linear(in_features=128, out_features=512, bias=True)\n",
       "    (W_d): Linear(in_features=128, out_features=128, bias=True)\n",
       "  )\n",
       "  (RNN1b): TimeLSTM(\n",
       "    (W_all): Linear(in_features=128, out_features=512, bias=True)\n",
       "    (U_all): Linear(in_features=128, out_features=512, bias=True)\n",
       "    (W_d): Linear(in_features=128, out_features=128, bias=True)\n",
       "  )\n",
       "  (RNN2b): TimeLSTM(\n",
       "    (W_all): Linear(in_features=128, out_features=512, bias=True)\n",
       "    (U_all): Linear(in_features=128, out_features=512, bias=True)\n",
       "    (W_d): Linear(in_features=128, out_features=128, bias=True)\n",
       "  )\n",
       "  (wa): Linear(in_features=256, out_features=1, bias=False)\n",
       "  (Wb): Linear(in_features=256, out_features=128, bias=False)\n",
       "  (W_out): Linear(in_features=128, out_features=1, bias=False)\n",
       ")"
      ]
     },
     "execution_count": 34,
     "metadata": {},
     "output_type": "execute_result"
    }
   ],
   "source": [
    "model.cuda()"
   ]
  },
  {
   "cell_type": "code",
   "execution_count": 35,
   "metadata": {},
   "outputs": [
    {
     "name": "stdout",
     "output_type": "stream",
     "text": [
      "0\n"
     ]
    },
    {
     "ename": "KeyboardInterrupt",
     "evalue": "",
     "output_type": "error",
     "traceback": [
      "\u001b[0;31m----------------------------------------------------\u001b[0m",
      "\u001b[0;31mKeyboardInterrupt\u001b[0m  Traceback (most recent call last)",
      "\u001b[0;32m<ipython-input-35-fdc283f7a1da>\u001b[0m in \u001b[0;36m<module>\u001b[0;34m()\u001b[0m\n\u001b[1;32m     14\u001b[0m         \u001b[0;32mfor\u001b[0m \u001b[0mc\u001b[0m \u001b[0;32min\u001b[0m \u001b[0mcodes\u001b[0m\u001b[0;34m:\u001b[0m\u001b[0;34m\u001b[0m\u001b[0m\n\u001b[1;32m     15\u001b[0m             \u001b[0ms\u001b[0m \u001b[0;34m=\u001b[0m \u001b[0mmodel\u001b[0m\u001b[0;34m.\u001b[0m\u001b[0minterpret\u001b[0m\u001b[0;34m(\u001b[0m\u001b[0mu\u001b[0m\u001b[0;34m=\u001b[0m\u001b[0;36m0\u001b[0m\u001b[0;34m,\u001b[0m\u001b[0mv\u001b[0m\u001b[0;34m=\u001b[0m\u001b[0mv\u001b[0m\u001b[0;34m,\u001b[0m\u001b[0mi\u001b[0m\u001b[0;34m=\u001b[0m\u001b[0mc\u001b[0m\u001b[0;34m,\u001b[0m\u001b[0mo\u001b[0m\u001b[0;34m=\u001b[0m\u001b[0;36m0\u001b[0m\u001b[0;34m)\u001b[0m\u001b[0;34m\u001b[0m\u001b[0m\n\u001b[0;32m---> 16\u001b[0;31m             \u001b[0marr\u001b[0m\u001b[0;34m[\u001b[0m\u001b[0mc\u001b[0m\u001b[0;34m]\u001b[0m\u001b[0;34m+=\u001b[0m\u001b[0ms\u001b[0m\u001b[0;34m.\u001b[0m\u001b[0mdata\u001b[0m\u001b[0;34m[\u001b[0m\u001b[0;36m0\u001b[0m\u001b[0;34m]\u001b[0m\u001b[0;34m\u001b[0m\u001b[0m\n\u001b[0m\u001b[1;32m     17\u001b[0m \u001b[0;31m#     input_list.append(list(inputs_))\u001b[0m\u001b[0;34m\u001b[0m\u001b[0;34m\u001b[0m\u001b[0m\n\u001b[1;32m     18\u001b[0m \u001b[0;31m# inputs = model.list_to_tensor(input_list)\u001b[0m\u001b[0;34m\u001b[0m\u001b[0;34m\u001b[0m\u001b[0m\n",
      "\u001b[0;31mKeyboardInterrupt\u001b[0m: "
     ]
    }
   ],
   "source": [
    "np_list = [] # list to store np arrays for each sample\n",
    "count_list = [] # list to store how many times each code appears for each sample\n",
    "len_list = [] # list to store the length of each sample\n",
    "for i,patient in enumerate(patient_list):\n",
    "    if i%100==0:\n",
    "        print(i)\n",
    "    score_arr = np.zeros((1400),dtype=float)\n",
    "    count_arr = np.zeros((1400),dtype=int)\n",
    "    _,dates_,inputs_,_ = zip(*patient)\n",
    "    date_list = [list(dates_)]\n",
    "    input_list = [list(inputs_)]\n",
    "    inputs = model.list_to_tensor(input_list)\n",
    "    dates = Variable(torch.Tensor(date_list),requires_grad=False)\n",
    "    dates = dates.cuda()\n",
    "    outputs = model(inputs,dates)\n",
    "    for v,codes in enumerate(inputs_):\n",
    "        for c in codes:\n",
    "            s = model.interpret(u=0,v=v,i=c,o=0)\n",
    "            score_arr[c]+=s.data[0]\n",
    "            count_arr[c]+=1\n",
    "    np_list.append(score_arr)\n",
    "    count_list.append(count_arr)\n",
    "    len_list.append(len(inputs_))\n",
    "np_list = np.array(np_list)\n",
    "count_list = np.array(count_list,dtype=int)\n",
    "with open('data/postprocessed/H26_scores.pckl','wb') as f:\n",
    "    pickle.dump((np_list,count_list,len_list),f)\n",
    "#     input_list.append(list(inputs_))\n",
    "# inputs = model.list_to_tensor(input_list)\n",
    "# dates = Variable(torch.Tensor(date_list), requires_grad=False)\n",
    "# targets = Variable(torch.Tensor(np.array(y,dtype=int)))\n",
    "# outputs = model(inputs,dates)    "
   ]
  },
  {
   "cell_type": "code",
   "execution_count": 40,
   "metadata": {},
   "outputs": [
    {
     "data": {
      "text/plain": [
       "44"
      ]
     },
     "execution_count": 40,
     "metadata": {},
     "output_type": "execute_result"
    }
   ],
   "source": [
    "len(inputs_)"
   ]
  },
  {
   "cell_type": "code",
   "execution_count": null,
   "metadata": {
    "collapsed": true
   },
   "outputs": [],
   "source": []
  }
 ],
 "metadata": {
  "kernelspec": {
   "display_name": "Python [conda env:pytorch]",
   "language": "python",
   "name": "conda-env-pytorch-py"
  },
  "language_info": {
   "codemirror_mode": {
    "name": "ipython",
    "version": 3
   },
   "file_extension": ".py",
   "mimetype": "text/x-python",
   "name": "python",
   "nbconvert_exporter": "python",
   "pygments_lexer": "ipython3",
   "version": "3.5.4"
  }
 },
 "nbformat": 4,
 "nbformat_minor": 2
}
