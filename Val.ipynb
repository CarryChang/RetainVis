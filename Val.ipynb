{
 "cells": [
  {
   "cell_type": "code",
   "execution_count": null,
   "metadata": {
    "collapsed": true
   },
   "outputs": [],
   "source": [
    "import torch\n",
    "from torch import optim,nn\n",
    "import torch.nn.functional as F\n",
    "from torch.autograd import Variable\n",
    "import gc\n",
    "import numpy as np\n",
    "import time\n",
    "import os\n",
    "import random\n",
    "import pickle\n",
    "import argparse\n",
    "from functions import get_dates,calculate\n",
    "from sklearn.metrics import roc_auc_score as AUC\n",
    "from sklearn.metrics import average_precision_score as AP"
   ]
  },
  {
   "cell_type": "code",
   "execution_count": null,
   "metadata": {
    "collapsed": true
   },
   "outputs": [],
   "source": [
    "from models.gru_bidirectional import GRU\n",
    "from models.retain_bidirectional import RETAIN\n",
    "from models.retain_ex import RETAIN_EX"
   ]
  },
  {
   "cell_type": "code",
   "execution_count": null,
   "metadata": {
    "collapsed": true
   },
   "outputs": [],
   "source": [
    "ver_list = ['retain','ex','gru']\n",
    "task_list = ['I50','H26']\n",
    "time_list = [0,1]\n",
    "hid_list = [64,128,256]\n",
    "lr_list = [0.01, 0.001, 0.0001]\n",
    "epoch_list = np.arange(30)+1"
   ]
  },
  {
   "cell_type": "code",
   "execution_count": null,
   "metadata": {},
   "outputs": [],
   "source": [
    "ver='gru'\n",
    "lr = 0.01\n",
    "hid = 128\n",
    "task = 'I50'\n",
    "if ver=='gru':\n",
    "    from models.gru_bidirectional import GRU\n",
    "with open('data/%s/val.pckl'%task,'rb') as f:\n",
    "    val_data = pickle.load(f)\n",
    "model = GRU(hid,hid,1,cuda_flag=True)\n",
    "model.load_state_dict(torch.load('experiments/H26/saved_weights/lr_0.001/retain_time_interpret/epoch/10_epochs.pth'))\n",
    "# model.load_state_dict(torch.load('experiments2/I50/gru_128_0.0100/saved_weights/2_cuda.pckl'))\n",
    "model.cuda()"
   ]
  },
  {
   "cell_type": "code",
   "execution_count": null,
   "metadata": {
    "scrolled": false
   },
   "outputs": [],
   "source": [
    "print('task\\tver\\ttime\\thid\\tlr\\tepoch\\tauc\\tap')\n",
    "for task in task_list:\n",
    "    with open('data/%s/val.pckl'%task,'rb') as f:\n",
    "        val_data = pickle.load(f)\n",
    "#     for hid in [128]:\n",
    "    for hid in hid_list:\n",
    "            for time_fn in time_list:\n",
    "                for ver in ver_list:\n",
    "                        if (time_fn==1)&(ver!='ex'):\n",
    "                            continue\n",
    "                        else:\n",
    "                            if ver=='gru':\n",
    "                                model = GRU(hid,hid,1,cuda_flag=True)\n",
    "                            elif ver=='retain':\n",
    "                                model = RETAIN(hid,hid,1,cuda_flag=True)\n",
    "                            elif (ver=='ex'):\n",
    "                                model = RETAIN_EX(hid,hid,1,cuda_flag=True,bidirectional=True,time_ver=time_fn)\n",
    "                            model.cuda()    \n",
    "                            for lr in lr_list:\n",
    "            #                 for lr in ['0.001']:\n",
    "                                for epoch in epoch_list[:10]:\n",
    "            #                     for epoch in [2]:\n",
    "                                    if ver=='ex':\n",
    "                                        weight_name = 'experiments2/%s/%s-%d_%d_%s/saved_weights/%d_cpu.pckl'%(task,ver,time_fn,hid,str(lr),epoch)\n",
    "                                    else:\n",
    "                                        weight_name = 'experiments2/%s/%s_%d_%s/saved_weights/%d_cpu.pckl'%(task,ver,hid,lr,epoch)\n",
    "                                    try:\n",
    "                                        model.load_state_dict(torch.load(weight_name))\n",
    "                                        correct_list = []\n",
    "                                        score_list = []\n",
    "                                        for (X,y) in val_data:\n",
    "                                            outputs,targets = calculate(X,y,model,ver=ver,cuda_flag=True,time_fn=time_fn)\n",
    "                                            correct_list.extend(y)\n",
    "                                            score_list.extend(outputs.squeeze().data.tolist())\n",
    "                                        auc = AUC(y_true=correct_list,y_score=score_list)\n",
    "                                        ap = AP(y_true=correct_list,y_score=score_list)\n",
    "                                        print('%s\\t%s\\t%d\\t%d\\t%s\\t%d\\t%1.3f\\t%1.3f'%(task,ver,time_fn,hid,str(lr),epoch,auc,ap))\n",
    "                                    except FileNotFoundError:\n",
    "            #                             print('file not found')\n",
    "                                        continue"
   ]
  },
  {
   "cell_type": "code",
   "execution_count": null,
   "metadata": {},
   "outputs": [],
   "source": [
    "weight_name"
   ]
  },
  {
   "cell_type": "code",
   "execution_count": null,
   "metadata": {
    "collapsed": true
   },
   "outputs": [],
   "source": []
  }
 ],
 "metadata": {
  "kernelspec": {
   "display_name": "Python [conda env:pytorch]",
   "language": "python",
   "name": "conda-env-pytorch-py"
  },
  "language_info": {
   "codemirror_mode": {
    "name": "ipython",
    "version": 3
   },
   "file_extension": ".py",
   "mimetype": "text/x-python",
   "name": "python",
   "nbconvert_exporter": "python",
   "pygments_lexer": "ipython3",
   "version": "3.5.4"
  }
 },
 "nbformat": 4,
 "nbformat_minor": 2
}
