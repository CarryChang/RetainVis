{
 "cells": [
  {
   "cell_type": "code",
   "execution_count": 1,
   "metadata": {
    "collapsed": false
   },
   "outputs": [],
   "source": [
    "import pandas as pd\n",
    "import sqlite3\n",
    "import os\n",
    "import numpy as np\n",
    "import pickle\n",
    "import time"
   ]
  },
  {
   "cell_type": "code",
   "execution_count": 3,
   "metadata": {
    "collapsed": true
   },
   "outputs": [],
   "source": [
    "# select year\n",
    "year = 2014\n",
    "trg = 'I50'\n",
    "# trg = 'H26' #백내장"
   ]
  },
  {
   "cell_type": "code",
   "execution_count": 4,
   "metadata": {
    "collapsed": false
   },
   "outputs": [],
   "source": [
    "# open out_dict, that is, collection of all patients\n",
    "with open('/home/data/EHR/db/out_dict_%d.pckl'%year,'rb') as f:\n",
    "    out_dict = pickle.load(f)"
   ]
  },
  {
   "cell_type": "code",
   "execution_count": 5,
   "metadata": {
    "collapsed": false
   },
   "outputs": [
    {
     "data": {
      "text/plain": [
       "[(4127696, 20140108.0, [1, 3, 636, 1143, 87], 636),\n",
       " (4899724, 20140129.0, [1, 3, 636, 1143, 87], 636),\n",
       " (5901835, 20140102.0, [1, 3, 636, 1143, 87], 636),\n",
       " (5994969, 20140108.0, [16, 611], 611),\n",
       " (6506747, 20140127.0, [1, 3, 636, 1143, 87], 636),\n",
       " (10420348, 20140104.0, [1, 859, 3, 621, 87], 621),\n",
       " (12492100, 20140124.0, [1, 3, 636, 1143, 87], 636),\n",
       " (16197789, 20140118.0, [2, 3, 612, 4, 1163, 909, 782, 886, 700], 700),\n",
       " (16751732, 20140114.0, [1, 3, 636, 1143, 87], 636),\n",
       " (20007209, 20140110.0, [1, 3, 636, 1143, 87], 636),\n",
       " (21179011, 20140128.0, [1, 3, 636, 1143, 87], 636),\n",
       " (21931920, 20140109.0, [1, 3, 636, 1143, 87], 636),\n",
       " (23008082, 20140116.0, [1, 3, 636, 1143, 87], 636),\n",
       " (24817466, 20140130.0, [1, 612, 776, 1001, 603, 859, 1180], 603),\n",
       " (24977894, 20140115.0, [1, 3, 636, 1143, 87], 636),\n",
       " (25187516, 20140123.0, [1, 3, 636, 1143, 87], 636),\n",
       " (25772942, 20140103.0, [1, 3, 636, 1143, 87], 636),\n",
       " (3389551, 20140227.0, [1, 3, 636, 1143, 87], 636),\n",
       " (6314661, 20140226.0, [1, 3, 636, 1143, 87], 636),\n",
       " (6901786, 20140217.0, [8, 1, 18, 636, 7], 636),\n",
       " (10058834, 20140203.0, [8, 1, 18, 636, 7], 636),\n",
       " (12456293, 20140203.0, [1, 3, 4, 1163, 909, 782, 886, 700, 638], 700),\n",
       " (12875267, 20140225.0, [1, 3, 636, 1143, 87], 636),\n",
       " (14348319, 20140205.0, [8, 1, 18, 636, 7], 636),\n",
       " (15083061, 20140221.0, [1, 3, 636, 1143, 87], 636),\n",
       " (18479451, 20140215.0, [1, 3, 636, 1143, 87], 636),\n",
       " (19168455, 20140204.0, [8, 1, 18, 636, 7], 636),\n",
       " (19829974, 20140219.0, [8, 1, 18, 636, 7], 636),\n",
       " (22271176, 20140211.0, [8, 1, 18, 636, 7], 636),\n",
       " (23869418, 20140212.0, [8, 1, 18, 636, 7], 636),\n",
       " (5984468, 20140311.0, [8, 1, 18, 636, 7], 636),\n",
       " (7647835, 20140319.0, [1, 3, 636, 1143, 87], 636),\n",
       " (10149440, 20140314.0, [1, 3, 636, 1143, 87], 636),\n",
       " (13572522, 20140331.0, [1, 3, 636, 1143, 87], 636),\n",
       " (13914639, 20140320.0, [1, 3, 636, 1143, 87], 636),\n",
       " (16182533, 20140307.0, [1, 3, 636, 1143, 87], 636),\n",
       " (18737216, 20140318.0, [1, 3, 636, 1143, 87], 636),\n",
       " (19695763, 20140312.0, [1, 3, 636, 1143, 87], 636),\n",
       " (24252411, 20140327.0, [1, 3, 636, 1143, 87], 636),\n",
       " (24748163, 20140303.0, [1, 3, 636, 1143, 87], 636),\n",
       " (25346710, 20140318.0, [577, 2, 930, 1126, 19, 1267, 1046, 954], 577),\n",
       " (25554706, 20140306.0, [1, 3, 636, 1143, 87], 636),\n",
       " (26325368, 20140328.0, [1, 3, 636, 1143, 87], 636),\n",
       " (700333, 20140422.0, [1, 612, 1001, 603, 859, 1180], 603),\n",
       " (1788268, 20140424.0, [1, 603, 3, 1143, 87], 603),\n",
       " (4143062, 20140403.0, [1, 603, 3, 1143, 87], 603),\n",
       " (5563494, 20140415.0, [1, 3, 1001, 623, 1143, 87, 859, 636], 636),\n",
       " (8664313,\n",
       "  20140423.0,\n",
       "  [2, 3, 612, 4, 994, 811, 1100, 882, 1267, 1396, 601, 603, 1276],\n",
       "  603),\n",
       " (9057949, 20140401.0, [1, 3, 636, 1143, 87], 636),\n",
       " (15076979, 20140417.0, [1, 3, 636, 1143, 87], 636),\n",
       " (15552985, 20140414.0, [2, 3, 612, 4, 1163, 909, 782, 886, 700, 638], 700),\n",
       " (15710519, 20140429.0, [1, 603, 3, 1143, 87], 603),\n",
       " (17002186, 20140408.0, [1, 636, 1001, 909], 636),\n",
       " (19433937, 20140423.0, [1, 603, 3, 1143, 87], 603),\n",
       " (20705040, 20140402.0, [1, 612, 776, 1001, 603, 859, 1180], 603),\n",
       " (20793284, 20140428.0, [1, 603, 3, 1143, 87], 603),\n",
       " (21363837, 20140419.0, [1, 3, 636, 1143, 87], 636),\n",
       " (23738753, 20140430.0, [1, 603, 3, 1143, 87], 603),\n",
       " (27097613, 20140407.0, [1, 603, 3, 1143, 87], 603),\n",
       " (27746776, 20140409.0, [1, 3, 636, 1143, 87], 636),\n",
       " (3123624, 20140513.0, [1, 603, 3, 1143, 87], 603),\n",
       " (3783665, 20140522.0, [1, 603, 3, 1143, 87], 603),\n",
       " (6992008, 20140507.0, [1, 603, 3, 1143, 87], 603),\n",
       " (9200808, 20140501.0, [1, 603, 3, 1143, 87], 603),\n",
       " (9607029, 20140516.0, [1, 603, 3, 1143, 87], 603),\n",
       " (9746992, 20140514.0, [1, 603, 3, 1143, 87], 603),\n",
       " (11978337, 20140530.0, [8, 1, 18, 636, 7], 636),\n",
       " (17479286, 20140509.0, [1, 603, 3, 1143, 87], 603),\n",
       " (19850623, 20140508.0, [1, 603, 3, 1143, 87], 603),\n",
       " (20392111, 20140503.0, [1, 603, 3, 1143, 87], 603),\n",
       " (21781831, 20140527.0, [1, 603, 3, 1143, 87], 603),\n",
       " (21969885, 20140521.0, [1, 603, 3, 1143, 87], 603),\n",
       " (22416659, 20140502.0, [1, 603, 3, 1143, 87], 603),\n",
       " (23786631, 20140515.0, [577, 930, 2, 1126, 19, 1267, 1046, 954], 577),\n",
       " (26689885, 20140520.0, [1, 603, 3, 1143, 87], 603),\n",
       " (27642183, 20140528.0, [1, 603, 3, 1143, 87], 603),\n",
       " (1520541, 20140605.0, [1, 3, 636, 1143, 87], 636),\n",
       " (1652733, 20140611.0, [1, 3, 636, 1143, 87], 636),\n",
       " (8622487, 20140630.0, [1, 3, 636, 1143, 87], 636),\n",
       " (9314977, 20140627.0, [1, 570, 1001, 999], 570),\n",
       " (10225334, 20140613.0, [1281, 2, 515, 1225, 1130, 685, 782, 623], 515),\n",
       " (14060472, 20140620.0, [8, 1, 18, 636, 7], 636),\n",
       " (14994282, 20140623.0, [1, 3, 7, 8, 18, 1143, 87, 636], 636),\n",
       " (15369308, 20140613.0, [1, 3, 636, 1143, 87], 636),\n",
       " (15460787, 20140624.0, [8, 1, 18, 636, 7], 636),\n",
       " (16444834, 20140610.0, [1, 3, 636, 1143, 87], 636),\n",
       " (17118396, 20140617.0, [1, 3, 7, 8, 18, 1143, 87, 636], 636),\n",
       " (18137382, 20140602.0, [1, 3, 636, 1143, 87], 636),\n",
       " (18326008, 20140607.0, [872, 1, 515], 515),\n",
       " (21301545, 20140616.0, [1, 3, 636, 1143, 87], 636),\n",
       " (26246909, 20140618.0, [8, 1, 18, 636, 7], 636),\n",
       " (27312690, 20140604.0, [1, 3, 636, 1143, 87], 636),\n",
       " (27517757, 20140621.0, [2, 839, 1001, 882, 1396, 247, 601], 601),\n",
       " (2288488, 20140723.0, [1, 3, 636, 1143, 87], 636),\n",
       " (3321105, 20140715.0, [1, 3, 636, 1143, 87], 636),\n",
       " (6240210, 20140730.0, [1, 3, 636, 1143, 87], 636),\n",
       " (6303027, 20140716.0, [1, 3, 636, 1143, 87], 636),\n",
       " (8146224, 20140703.0, [1, 3, 636, 1143, 87], 636),\n",
       " (13095922, 20140721.0, [1, 3, 636, 1143, 87], 636),\n",
       " (13132637, 20140708.0, [1, 3, 636, 1143, 87], 636),\n",
       " (15909962, 20140728.0, [1, 3, 636, 1143, 87], 636),\n",
       " (16860860, 20140729.0, [1, 3, 636, 1143, 87], 636),\n",
       " (17249181, 20140710.0, [1, 3, 636, 1143, 87], 636),\n",
       " (19006057, 20140701.0, [1, 3, 636, 1143, 87], 636),\n",
       " (20618709, 20140714.0, [1, 3, 636, 1143, 87], 636),\n",
       " (21668322, 20140707.0, [1, 996, 501], 501),\n",
       " (21688155, 20140702.0, [1, 3, 636, 1143, 87], 636),\n",
       " (3392656, 20140822.0, [1, 603, 3, 1143, 87], 603),\n",
       " (5360260, 20140827.0, [1, 603, 3, 1143, 87], 603),\n",
       " (8878993, 20140819.0, [1, 612, 776, 1001, 603, 859, 1180], 603),\n",
       " (9417736, 20140823.0, [1, 603, 3, 1143, 87], 603),\n",
       " (12376055, 20140828.0, [1, 859, 612, 776, 1001, 603, 1180], 603),\n",
       " (13548635, 20140813.0, [1, 603, 3, 1143, 87], 603),\n",
       " (14555545, 20140814.0, [1, 603, 3, 1143, 87], 603),\n",
       " (16808837, 20140805.0, [1, 3, 636, 1143, 87], 636),\n",
       " (19066445, 20140812.0, [1, 859, 3, 623, 87], 623),\n",
       " (20043393, 20140804.0, [1, 3, 636, 1143, 87], 636),\n",
       " (23101444, 20140821.0, [1, 603, 3, 1143, 87], 603),\n",
       " (26761067, 20140807.0, [1, 3, 636, 1143, 87], 636),\n",
       " (1427613, 20140924.0, [1, 603, 3, 1143, 87], 603),\n",
       " (2169925, 20140929.0, [1, 603, 3, 1143, 87], 603),\n",
       " (7389236, 20140926.0, [1, 603, 3, 1143, 87], 603),\n",
       " (8318909, 20140911.0, [1, 603, 3, 1143, 87], 603),\n",
       " (8740485, 20140903.0, [1, 603, 3, 1143, 87], 603),\n",
       " (11206680, 20140902.0, [1, 603, 3, 1143, 87], 603),\n",
       " (11292264, 20140912.0, [1, 603, 3, 1143, 87], 603),\n",
       " (12417481, 20140930.0, [1, 603, 3, 1143, 87], 603),\n",
       " (14778430, 20140917.0, [1, 603, 3, 1143, 87], 603),\n",
       " (17633861, 20140901.0, [1, 612, 776, 1001, 603, 859, 1180], 603),\n",
       " (19573004, 20140916.0, [1, 603, 3, 1143, 87], 603),\n",
       " (22201879, 20140913.0, [1, 603, 3, 1143, 87], 603),\n",
       " (26003733, 20140925.0, [1, 603, 3, 1143, 87], 603),\n",
       " (26568297, 20140915.0, [1, 603, 3, 1143, 87], 603),\n",
       " (776590, 20141021.0, [1, 3, 636, 1143, 87], 636),\n",
       " (2440160, 20141010.0, [1, 603, 3, 1143, 87], 603),\n",
       " (2612516, 20141029.0, [1, 3, 636, 1143, 87], 636),\n",
       " (2655589, 20141015.0, [1, 603, 3, 1143, 87], 603),\n",
       " (2860613, 20141028.0, [1, 3, 636, 1143, 87], 636),\n",
       " (5344154, 20141007.0, [1, 603, 3, 1143, 87], 603),\n",
       " (5508195, 20141004.0, [1, 603, 3, 1143, 87], 603),\n",
       " (5537154, 20141001.0, [1, 603, 3, 1143, 87], 603),\n",
       " (5918898, 20141022.0, [1, 3, 636, 1143, 87], 636),\n",
       " (8390219, 20141006.0, [1, 603, 3, 1143, 87], 603),\n",
       " (14815621, 20141002.0, [1, 603, 3, 1143, 87], 603),\n",
       " (15373834, 20141020.0, [1, 3, 636, 1143, 87], 636),\n",
       " (15780167, 20141023.0, [1, 3, 636, 1143, 87], 636),\n",
       " (17957479, 20141014.0, [1, 603, 3, 1143, 87], 603),\n",
       " (19757120, 20141016.0, [1, 3, 636, 1143, 87], 636),\n",
       " (22425545, 20141027.0, [1, 3, 636, 1143, 87], 636),\n",
       " (2241859, 20141105.0, [1, 3, 636, 1143, 87], 636),\n",
       " (5665783, 20141111.0, [1, 3, 636, 1143, 87], 636),\n",
       " (7041355, 20141104.0, [1, 3, 636, 1143, 87], 636),\n",
       " (11749886, 20141124.0, [1, 3, 636, 1143, 87], 636),\n",
       " (12030293, 20141119.0, [1, 3, 636, 1143, 87], 636),\n",
       " (13818471, 20141125.0, [1, 3, 636, 1143, 87], 636),\n",
       " (14820738, 20141108.0, [1, 3, 636, 1143, 87], 636),\n",
       " (16987461, 20141126.0, [1, 3, 636, 1143, 87], 636),\n",
       " (17535302, 20141101.0, [1, 3, 636, 1143, 87], 636),\n",
       " (21523781, 20141115.0, [1, 3, 636, 1143, 87], 636),\n",
       " (21937195, 20141117.0, [1, 3, 636, 1143, 87], 636),\n",
       " (23180664, 20141110.0, [1, 3, 636, 1143, 87], 636),\n",
       " (24911481, 20141128.0, [1, 776, 1001, 603, 859, 1180], 603),\n",
       " (1248904, 20141201.0, [1, 612, 782], 612),\n",
       " (3161785, 20141222.0, [1, 3, 636, 1143, 87], 636),\n",
       " (4333928, 20141230.0, [1, 3, 636, 1143, 87], 636),\n",
       " (10042966, 20141229.0, [1, 3, 636, 1143, 87], 636),\n",
       " (12409693, 20141220.0, [1, 999, 1001, 570, 859, 604], 570),\n",
       " (12750936, 20141210.0, [1, 3, 636, 1143, 87], 636),\n",
       " (15410720, 20141223.0, [1, 3, 636, 1143, 87], 636),\n",
       " (15845695, 20141226.0, [1, 3, 636, 1143, 87], 636),\n",
       " (16252693, 20141216.0, [1, 3, 636, 1143, 87], 636),\n",
       " (18131258, 20141208.0, [1, 3, 636, 1143, 87], 636),\n",
       " (18917819, 20141231.0, [1, 3, 636, 1143, 87], 636),\n",
       " (19221724, 20141217.0, [1, 3, 636, 1143, 87], 636),\n",
       " (20821849, 20141202.0, [1, 3, 636, 1143, 87], 636),\n",
       " (23234705, 20141209.0, [1, 3, 636, 1143, 87], 636),\n",
       " (23581690, 20141206.0, [1, 3, 636, 1143, 87], 636),\n",
       " (24205188,\n",
       "  20141226.0,\n",
       "  [2, 3, 4, 1094, 839, 1001, 1260, 1267, 601, 1019, 604],\n",
       "  601),\n",
       " (26476622, 20141219.0, [1, 3, 636, 1143, 87], 636)]"
      ]
     },
     "execution_count": 5,
     "metadata": {},
     "output_type": "execute_result"
    }
   ],
   "source": [
    "out_dict[1]"
   ]
  },
  {
   "cell_type": "code",
   "execution_count": null,
   "metadata": {
    "collapsed": true
   },
   "outputs": [],
   "source": []
  },
  {
   "cell_type": "code",
   "execution_count": null,
   "metadata": {
    "collapsed": true
   },
   "outputs": [],
   "source": []
  },
  {
   "cell_type": "code",
   "execution_count": 26,
   "metadata": {
    "collapsed": true
   },
   "outputs": [],
   "source": [
    "# open database\n",
    "con = sqlite3.connect('/home/data/EHR/db/%d.db'%year)\n",
    "cur = con.cursor()\n",
    "con.text_factory = str"
   ]
  },
  {
   "cell_type": "code",
   "execution_count": 27,
   "metadata": {
    "collapsed": false
   },
   "outputs": [],
   "source": [
    "cur.execute('SELECT spec_id FROM sick_table WHERE sick_ab IS \"%s\"'%trg)\n",
    "# get all instances where I50 is observed\n",
    "id_list = [x[0] for x in cur.fetchall()]"
   ]
  },
  {
   "cell_type": "code",
   "execution_count": 28,
   "metadata": {
    "collapsed": false
   },
   "outputs": [
    {
     "name": "stdout",
     "output_type": "stream",
     "text": [
      "16594\n",
      "12859\n",
      "3735\n"
     ]
    }
   ],
   "source": [
    "# preprocessing 1 - remove patients whose observation was conducted earlier than 6/31\n",
    "jid_list = []\n",
    "jid_remove_list = []\n",
    "for id in id_list:\n",
    "    cur.execute('SELECT jid,date FROM main_table WHERE spec_id is %d'%id)\n",
    "    for (jid,date) in cur.fetchall():\n",
    "        jid_list.append(jid) # add to jid list\n",
    "        if date<(year*10000+631): # if the discovery was made \n",
    "            jid_remove_list.append(jid) # make sure we remove this later\n",
    "jid_list = list(set(jid_list))\n",
    "print(len(jid_list))\n",
    "jid_remove_list = list(set(jid_remove_list))\n",
    "print(len(jid_remove_list))\n",
    "for jid in jid_remove_list:\n",
    "    jid_list.remove(jid)\n",
    "print(len(jid_list))"
   ]
  },
  {
   "cell_type": "code",
   "execution_count": 29,
   "metadata": {
    "collapsed": false
   },
   "outputs": [
    {
     "name": "stdout",
     "output_type": "stream",
     "text": [
      "2890\n"
     ]
    }
   ],
   "source": [
    "# preprocessing 2 - remove patients with less than 5 visits earlier than 6/31\n",
    "jid_remove_list = []\n",
    "for jid in jid_list:\n",
    "    try:\n",
    "        if len(out_dict[jid])<5: # remove patients less than 5 visits\n",
    "            jid_remove_list.append(jid)\n",
    "            continue\n",
    "        if out_dict[jid][4][1]>(year*10000+631): # if a patient has less than 5 visits beforehand, remove as well\n",
    "            jid_remove_list.append(jid)\n",
    "            continue\n",
    "    except KeyError:\n",
    "        continue\n",
    "for jid in jid_remove_list:\n",
    "    jid_list.remove(jid)\n",
    "print(len(jid_list))"
   ]
  },
  {
   "cell_type": "code",
   "execution_count": 31,
   "metadata": {
    "collapsed": false
   },
   "outputs": [],
   "source": [
    "# for each positive jid, save all visits that take place up to 6/31, and store it to out_dict2\n",
    "out_dict2 = dict()\n",
    "for jid in jid_list:\n",
    "    cnt = 0\n",
    "    try:\n",
    "        for tup in out_dict[jid]:\n",
    "            if tup[1]>(year*10000+631):\n",
    "                break\n",
    "            cnt+=1\n",
    "        out_dict2[jid]=out_dict[jid][:cnt]\n",
    "    except KeyError:\n",
    "        continue"
   ]
  },
  {
   "cell_type": "code",
   "execution_count": 32,
   "metadata": {
    "collapsed": false
   },
   "outputs": [],
   "source": [
    "# save positive outputs to out_pos in /data/preprocessed/I50\n",
    "with open('../data/preprocessed/%s/out_pos_%d.pckl'%(trg,year),'wb') as f:\n",
    "    pickle.dump(out_dict2,f)"
   ]
  },
  {
   "cell_type": "code",
   "execution_count": 33,
   "metadata": {
    "collapsed": false
   },
   "outputs": [],
   "source": [
    "with open('../data/preprocessed//%s/out_pos_%d.pckl'%(trg,year),'rb') as f:\n",
    "    out_dict2 = pickle.load(f)"
   ]
  },
  {
   "cell_type": "code",
   "execution_count": 34,
   "metadata": {
    "collapsed": false
   },
   "outputs": [
    {
     "name": "stdout",
     "output_type": "stream",
     "text": [
      "2828\n"
     ]
    }
   ],
   "source": [
    "pos_list = list(out_dict2.keys())\n",
    "print(len(pos_list))"
   ]
  },
  {
   "cell_type": "code",
   "execution_count": 35,
   "metadata": {
    "collapsed": false,
    "scrolled": true
   },
   "outputs": [],
   "source": [
    "# count number of visits for each patient prior to 0631\n",
    "visit_dict = dict()\n",
    "for k,V in out_dict.items():\n",
    "    cnt = 0\n",
    "    for (_,date,_,_) in V:\n",
    "        if date>(year*10000+631):\n",
    "            break\n",
    "        cnt+=1\n",
    "    visit_dict[k]=cnt\n",
    "with open('../data/preprocessed/%s/visits_%d.pckl'%(trg,year),'wb') as f:\n",
    "    pickle.dump(visit_dict,f)"
   ]
  },
  {
   "cell_type": "code",
   "execution_count": 36,
   "metadata": {
    "collapsed": false
   },
   "outputs": [
    {
     "name": "stdout",
     "output_type": "stream",
     "text": [
      "2828\n",
      "1417434\n",
      "13766\n"
     ]
    }
   ],
   "source": [
    "# exclude list - patients with at least one diagnosis in I50\n",
    "exclude_list = []\n",
    "cur.execute('SELECT spec_id FROM sick_table WHERE sick_ab IS \"%s\"'%trg) # get all instances where I50 is observed\n",
    "id_list = [x[0] for x in cur.fetchall()]\n",
    "for id in id_list:\n",
    "    cur.execute('SELECT jid FROM main_table WHERE spec_id is %d'%id)\n",
    "    for (jid,) in cur.fetchall():\n",
    "        exclude_list.append(jid) # add to jid list\n",
    "exclude_list = list(set(exclude_list)-set(pos_list))\n",
    "candidate_list = list(set(out_dict.keys())-set(exclude_list))\n",
    "print(len(pos_list))\n",
    "print(len(candidate_list))\n",
    "print(len(exclude_list))"
   ]
  },
  {
   "cell_type": "code",
   "execution_count": 37,
   "metadata": {
    "collapsed": false
   },
   "outputs": [],
   "source": [
    "with open('/home/data/EHR/db/%d_demo.pckl' %(year),'rb') as f:\n",
    "    D = pickle.load(f)"
   ]
  },
  {
   "cell_type": "code",
   "execution_count": 38,
   "metadata": {
    "collapsed": false,
    "scrolled": true
   },
   "outputs": [],
   "source": [
    "# D.sort_values('jid')"
   ]
  },
  {
   "cell_type": "code",
   "execution_count": 39,
   "metadata": {
    "collapsed": false
   },
   "outputs": [],
   "source": [
    "D2 = D[D['jid'].isin(candidate_list)]"
   ]
  },
  {
   "cell_type": "code",
   "execution_count": 40,
   "metadata": {
    "collapsed": false
   },
   "outputs": [],
   "source": [
    "# cur.execute('DROP TABLE demo_table_tmp')\n",
    "# con.commit()"
   ]
  },
  {
   "cell_type": "code",
   "execution_count": 41,
   "metadata": {
    "collapsed": false
   },
   "outputs": [],
   "source": [
    "D2.to_sql('demo_table_tmp',con=con)\n",
    "cur.execute('CREATE INDEX idx_demo_1 ON demo_table_tmp(jid)')\n",
    "cur.execute('CREATE INDEX idx_demo_2 ON demo_table_tmp(agg,gender)')\n",
    "con.commit()"
   ]
  },
  {
   "cell_type": "code",
   "execution_count": 42,
   "metadata": {
    "collapsed": true
   },
   "outputs": [],
   "source": [
    "# df_demo.to_sql('demo_table',con=con)\n",
    "# cur.execute('CREATE INDEX idx_demo ON demo_table(jid)')\n",
    "# cur.execute('CREATE INDEX idx_demo2 ON demo_table(agg,gender)')\n",
    "# con.commit()"
   ]
  },
  {
   "cell_type": "code",
   "execution_count": 43,
   "metadata": {
    "collapsed": false,
    "scrolled": true
   },
   "outputs": [
    {
     "name": "stdout",
     "output_type": "stream",
     "text": [
      "100\n",
      "5.1197896003723145\n",
      "200\n",
      "10.517198085784912\n",
      "300\n",
      "15.708556890487671\n",
      "400\n",
      "20.695252895355225\n",
      "500\n",
      "25.872736930847168\n",
      "600\n",
      "30.905836582183838\n",
      "700\n",
      "36.094778537750244\n",
      "800\n",
      "41.123481035232544\n",
      "900\n",
      "46.30752491950989\n",
      "1000\n",
      "51.6274197101593\n",
      "1100\n",
      "57.15680956840515\n",
      "1200\n",
      "62.36011981964111\n",
      "1300\n",
      "67.73951268196106\n",
      "1400\n",
      "73.24860572814941\n",
      "1500\n",
      "78.3967535495758\n",
      "1600\n",
      "83.77292823791504\n",
      "1700\n",
      "88.88983225822449\n",
      "1800\n",
      "94.12806940078735\n",
      "1900\n",
      "99.30260133743286\n",
      "2000\n",
      "104.32634472846985\n",
      "2100\n",
      "109.56003475189209\n",
      "2200\n",
      "114.71899104118347\n",
      "2300\n",
      "119.8372917175293\n",
      "2400\n",
      "124.82301354408264\n",
      "2500\n",
      "130.27404618263245\n",
      "2600\n",
      "135.57473945617676\n",
      "2700\n",
      "140.8736503124237\n",
      "2800\n",
      "146.4322154521942\n"
     ]
    }
   ],
   "source": [
    "import time\n",
    "start = time.time()\n",
    "out_list = []\n",
    "exception_list = []\n",
    "cnt = 0\n",
    "for jid in pos_list:\n",
    "    length = visit_dict[jid]\n",
    "    cnt+=1\n",
    "    if cnt%100==0:\n",
    "        print(cnt)\n",
    "        print(time.time()-start)\n",
    "    cur.execute('SELECT agg,gender FROM demo_table_tmp WHERE jid IS %d' %jid)\n",
    "    out = cur.fetchone()\n",
    "    cur.execute('SELECT jid FROM demo_table_tmp WHERE agg IS %d AND gender IS %d' %out)\n",
    "    results = list(set([x[0] for x in cur.fetchall()]))\n",
    "    neg = []\n",
    "    for jid2 in results:\n",
    "        try:\n",
    "            len2 = visit_dict[jid2]\n",
    "            if (len2>=length) & (len2<=length*1.3):\n",
    "                neg.append(jid2)\n",
    "            if len(neg)>=11:\n",
    "                break  \n",
    "        except KeyError:\n",
    "            continue\n",
    "    if jid in neg:\n",
    "        neg.remove(jid)\n",
    "    else:\n",
    "        neg = neg[:10]\n",
    "    if len(neg)==10:\n",
    "        out_list.append((jid,neg))\n",
    "    else:\n",
    "        exception_list.append((jid,len(neg)))"
   ]
  },
  {
   "cell_type": "code",
   "execution_count": 44,
   "metadata": {
    "collapsed": false
   },
   "outputs": [
    {
     "data": {
      "text/plain": [
       "2"
      ]
     },
     "execution_count": 44,
     "metadata": {},
     "output_type": "execute_result"
    }
   ],
   "source": [
    "len(exception_list)"
   ]
  },
  {
   "cell_type": "code",
   "execution_count": 45,
   "metadata": {
    "collapsed": false
   },
   "outputs": [],
   "source": [
    "out_list2 = []\n",
    "answers = list(np.zeros(11,dtype=int))\n",
    "answers[0] = 1\n",
    "for (pos,neg_list) in out_list:\n",
    "    visit_len = visit_dict[pos]\n",
    "    input_list = []\n",
    "    target_list = list(np.zeros(len(neg_list)+1,dtype=int))\n",
    "    target_list[0] = 1\n",
    "    input_list.append(out_dict[pos][:visit_len])\n",
    "    for neg in neg_list:\n",
    "        input_list.append(out_dict[neg][:visit_len])\n",
    "    out_list2.append((input_list,target_list))"
   ]
  },
  {
   "cell_type": "code",
   "execution_count": 46,
   "metadata": {
    "collapsed": false
   },
   "outputs": [],
   "source": [
    "with open('../data/preprocessed/%s/list_data_%d.pckl'%(trg,year),'wb') as f:\n",
    "    pickle.dump(out_list2,f)"
   ]
  },
  {
   "cell_type": "code",
   "execution_count": 47,
   "metadata": {
    "collapsed": false
   },
   "outputs": [],
   "source": [
    "cur.execute('DROP INDEX idx_demo_1')\n",
    "cur.execute('DROP INDEX idx_demo_2')\n",
    "cur.execute('DROP TABLE demo_table_tmp')\n",
    "con.commit()"
   ]
  },
  {
   "cell_type": "code",
   "execution_count": 48,
   "metadata": {
    "collapsed": true
   },
   "outputs": [],
   "source": [
    "con.close()"
   ]
  },
  {
   "cell_type": "code",
   "execution_count": null,
   "metadata": {
    "collapsed": true
   },
   "outputs": [],
   "source": []
  }
 ],
 "metadata": {
  "kernelspec": {
   "display_name": "Python [ehr]",
   "language": "python",
   "name": "Python [ehr]"
  },
  "language_info": {
   "codemirror_mode": {
    "name": "ipython",
    "version": 3
   },
   "file_extension": ".py",
   "mimetype": "text/x-python",
   "name": "python",
   "nbconvert_exporter": "python",
   "pygments_lexer": "ipython3",
   "version": "3.5.4"
  }
 },
 "nbformat": 4,
 "nbformat_minor": 0
}
