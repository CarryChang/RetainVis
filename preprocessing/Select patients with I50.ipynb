{
 "cells": [
  {
   "cell_type": "code",
   "execution_count": null,
   "metadata": {
    "collapsed": false
   },
   "outputs": [],
   "source": [
    "import pandas as pd\n",
    "import sqlite3\n",
    "import os\n",
    "import numpy as np\n",
    "import pickle\n",
    "import time"
   ]
  },
  {
   "cell_type": "code",
   "execution_count": null,
   "metadata": {
    "collapsed": true
   },
   "outputs": [],
   "source": [
    "# select year\n",
    "year = 2015"
   ]
  },
  {
   "cell_type": "code",
   "execution_count": null,
   "metadata": {
    "collapsed": false
   },
   "outputs": [],
   "source": [
    "# open out_dict, that is, collection of all patients\n",
    "with open('/home/data/EHR/db/out_dict_%d.pckl'%year,'rb') as f:\n",
    "    out_dict = pickle.load(f)"
   ]
  },
  {
   "cell_type": "code",
   "execution_count": null,
   "metadata": {
    "collapsed": true
   },
   "outputs": [],
   "source": [
    "# open database\n",
    "con = sqlite3.connect('/home/data/EHR/db/%d.db'%year)\n",
    "cur = con.cursor()\n",
    "con.text_factory = str"
   ]
  },
  {
   "cell_type": "code",
   "execution_count": null,
   "metadata": {
    "collapsed": true
   },
   "outputs": [],
   "source": [
    "cur.execute('SELECT spec_id FROM sick_table WHERE sick_ab IS \"I50\"') # get all instances where I50 is observed\n",
    "id_list = [x[0] for x in cur.fetchall()]"
   ]
  },
  {
   "cell_type": "code",
   "execution_count": null,
   "metadata": {
    "collapsed": false
   },
   "outputs": [],
   "source": [
    "# preprocessing 1 - remove patients whose observation was conducted earlier than 6/31\n",
    "jid_list = []\n",
    "jid_remove_list = []\n",
    "for id in id_list:\n",
    "    cur.execute('SELECT jid,date FROM main_table WHERE spec_id is %d'%id)\n",
    "    for (jid,date) in cur.fetchall():\n",
    "        jid_list.append(jid) # add to jid list\n",
    "        if date<(year*10000+631): # if the discovery was made \n",
    "            jid_remove_list.append(jid) # make sure we remove this later\n",
    "jid_list = list(set(jid_list))\n",
    "print(len(jid_list))\n",
    "jid_remove_list = list(set(jid_remove_list))\n",
    "print(len(jid_remove_list))\n",
    "for jid in jid_remove_list:\n",
    "    jid_list.remove(jid)\n",
    "print(len(jid_list))"
   ]
  },
  {
   "cell_type": "code",
   "execution_count": null,
   "metadata": {
    "collapsed": false
   },
   "outputs": [],
   "source": [
    "# preprocessing 2 - remove patients with less than 5 visits earlier than 6/31\n",
    "jid_remove_list = []\n",
    "for jid in jid_list:\n",
    "    if len(out_dict[jid])<5: # remove patients less than 5 visits\n",
    "        jid_remove_list.append(jid)\n",
    "        continue\n",
    "    if out_dict[jid][4][1]>(year*10000+631): # if a patient has less than 5 visits beforehand, remove as well\n",
    "        jid_remove_list.append(jid)\n",
    "        continue\n",
    "for jid in jid_remove_list:\n",
    "    jid_list.remove(jid)\n",
    "print(len(jid_list))"
   ]
  },
  {
   "cell_type": "code",
   "execution_count": null,
   "metadata": {
    "collapsed": false
   },
   "outputs": [],
   "source": [
    "# for each positive jid, save all visits that take place up to 6/31, and store it to out_dict2\n",
    "out_dict2 = dict()\n",
    "for jid in jid_list:\n",
    "    cnt = 0\n",
    "    for tup in out_dict[jid]:\n",
    "        if tup[1]>(year*10000+631):\n",
    "            break\n",
    "        cnt+=1\n",
    "    out_dict2[jid]=out_dict[jid][:cnt]"
   ]
  },
  {
   "cell_type": "code",
   "execution_count": null,
   "metadata": {
    "collapsed": false
   },
   "outputs": [],
   "source": [
    "# save positive outputs to out_pos in /data/preprocessed/I50\n",
    "with open('../data/preprocessed/I50/out_pos_%d.pckl'%year,'wb') as f:\n",
    "    pickle.dump(out_dict2,f)"
   ]
  },
  {
   "cell_type": "code",
   "execution_count": null,
   "metadata": {
    "collapsed": false
   },
   "outputs": [],
   "source": [
    "with open('../data/preprocessed/I50/out_pos_%d.pckl'%year,'rb') as f:\n",
    "    out_dict2 = pickle.load(f)"
   ]
  },
  {
   "cell_type": "code",
   "execution_count": null,
   "metadata": {
    "collapsed": false
   },
   "outputs": [],
   "source": [
    "pos_list = list(out_dict2.keys())\n",
    "print(len(pos_list))"
   ]
  },
  {
   "cell_type": "code",
   "execution_count": null,
   "metadata": {
    "collapsed": true
   },
   "outputs": [],
   "source": [
    "with open('/home/data/EHR/db/%d_demo.pckl'%year,'rb') as f:\n",
    "    df_demo = pickle.load(f)"
   ]
  },
  {
   "cell_type": "code",
   "execution_count": null,
   "metadata": {
    "collapsed": false,
    "scrolled": true
   },
   "outputs": [],
   "source": [
    "# count number of visits for each patient prior to 0631\n",
    "visit_dict = dict()\n",
    "for k,V in out_dict.items():\n",
    "    cnt = 0\n",
    "    for (_,date,_,_) in V:\n",
    "        if date>(year*10000+631):\n",
    "            break\n",
    "        cnt+=1\n",
    "    visit_dict[k]=cnt\n",
    "with open('../data/preprocessed/I50/visits_%d.pckl'%year,'wb') as f:\n",
    "    pickle.dump(visit_dict,f)"
   ]
  },
  {
   "cell_type": "code",
   "execution_count": null,
   "metadata": {
    "collapsed": false
   },
   "outputs": [],
   "source": [
    "# exclude list - patients with at least one diagnosis in I50\n",
    "exclude_list = []\n",
    "cur.execute('SELECT spec_id FROM sick_table WHERE sick_ab IS \"I50\"') # get all instances where I50 is observed\n",
    "id_list = [x[0] for x in cur.fetchall()]\n",
    "for id in id_list:\n",
    "    cur.execute('SELECT jid FROM main_table WHERE spec_id is %d'%id)\n",
    "    for (jid,) in cur.fetchall():\n",
    "        exclude_list.append(jid) # add to jid list\n",
    "exclude_list = list(set(exclude_list)-set(pos_list))\n",
    "candidate_list = list(set(out_dict.keys())-set(exclude_list))"
   ]
  },
  {
   "cell_type": "code",
   "execution_count": null,
   "metadata": {
    "collapsed": false
   },
   "outputs": [],
   "source": [
    "len(exclude_list)"
   ]
  },
  {
   "cell_type": "code",
   "execution_count": null,
   "metadata": {
    "collapsed": false
   },
   "outputs": [],
   "source": [
    "D = df_demo[['jid','agg','gender']]"
   ]
  },
  {
   "cell_type": "code",
   "execution_count": null,
   "metadata": {
    "collapsed": false
   },
   "outputs": [],
   "source": [
    "D = D.drop_duplicates()"
   ]
  },
  {
   "cell_type": "code",
   "execution_count": null,
   "metadata": {
    "collapsed": false
   },
   "outputs": [],
   "source": [
    "D2 = D[D['jid'].isin(candidate_list)]"
   ]
  },
  {
   "cell_type": "code",
   "execution_count": null,
   "metadata": {
    "collapsed": false
   },
   "outputs": [],
   "source": [
    "cur.execute('DROP TABLE demo_table')"
   ]
  },
  {
   "cell_type": "code",
   "execution_count": null,
   "metadata": {
    "collapsed": false
   },
   "outputs": [],
   "source": [
    "D2.to_sql('demo_table',con=con)\n",
    "cur.execute('CREATE INDEX idx_demo1 ON demo_table(jid)')\n",
    "cur.execute('CREATE INDEX idx_demo2 ON demo_table(agg,gender)')\n",
    "con.commit()"
   ]
  },
  {
   "cell_type": "code",
   "execution_count": null,
   "metadata": {
    "collapsed": true
   },
   "outputs": [],
   "source": [
    "# df_demo.to_sql('demo_table',con=con)\n",
    "# cur.execute('CREATE INDEX idx_demo ON demo_table(jid)')\n",
    "# cur.execute('CREATE INDEX idx_demo2 ON demo_table(agg,gender)')\n",
    "# con.commit()"
   ]
  },
  {
   "cell_type": "code",
   "execution_count": null,
   "metadata": {
    "collapsed": false,
    "scrolled": true
   },
   "outputs": [],
   "source": [
    "import time\n",
    "start = time.time()\n",
    "out_list = []\n",
    "cnt = 0\n",
    "for jid in pos_list:\n",
    "    length = visit_dict[jid]\n",
    "    cnt+=1\n",
    "    if cnt%100==0:\n",
    "        print(cnt)\n",
    "        print(time.time()-start)\n",
    "    cur.execute('SELECT agg,gender FROM demo_table WHERE jid IS %d' %jid)\n",
    "    out = cur.fetchone()\n",
    "    cur.execute('SELECT jid FROM demo_table WHERE agg IS %d AND gender IS %d' %out)\n",
    "    results = list(set([x[0] for x in cur.fetchall()]))\n",
    "    neg = []\n",
    "    for jid2 in results:\n",
    "        try:\n",
    "            len2 = visit_dict[jid2]\n",
    "            if (len2>=length) & (len2<=length*1.3):\n",
    "                neg.append(jid2)\n",
    "            if len(neg)>=11:\n",
    "                break  \n",
    "        except KeyError:\n",
    "            continue\n",
    "    if jid in neg:\n",
    "        neg.remove(jid)\n",
    "    else:\n",
    "        neg = neg[:10]\n",
    "    if len(neg)==10:\n",
    "        out_list.append((jid,neg))"
   ]
  },
  {
   "cell_type": "code",
   "execution_count": null,
   "metadata": {
    "collapsed": false
   },
   "outputs": [],
   "source": [
    "out_list2 = []\n",
    "answers = list(np.zeros(11,dtype=int))\n",
    "answers[0] = 1\n",
    "for (pos,neg_list) in out_list:\n",
    "    visit_len = visit_dict[pos]\n",
    "    input_list = []\n",
    "    target_list = list(np.zeros(len(neg_list)+1,dtype=int))\n",
    "    target_list[0] = 1\n",
    "    input_list.append(out_dict[pos][:visit_len])\n",
    "    for neg in neg_list:\n",
    "        input_list.append(out_dict[neg][:visit_len])\n",
    "    out_list2.append((input_list,target_list))"
   ]
  },
  {
   "cell_type": "code",
   "execution_count": null,
   "metadata": {
    "collapsed": false
   },
   "outputs": [],
   "source": [
    "with open('../data/preprocessed/I50/list_data_%d.pckl'%year,'wb') as f:\n",
    "    pickle.dump(out_list2,f)"
   ]
  },
  {
   "cell_type": "code",
   "execution_count": null,
   "metadata": {
    "collapsed": true
   },
   "outputs": [],
   "source": [
    "con.close()"
   ]
  },
  {
   "cell_type": "code",
   "execution_count": null,
   "metadata": {
    "collapsed": false
   },
   "outputs": [],
   "source": [
    "len(out_list2)"
   ]
  },
  {
   "cell_type": "code",
   "execution_count": null,
   "metadata": {
    "collapsed": true
   },
   "outputs": [],
   "source": []
  }
 ],
 "metadata": {
  "kernelspec": {
   "display_name": "Python [ehr]",
   "language": "python",
   "name": "Python [ehr]"
  },
  "language_info": {
   "codemirror_mode": {
    "name": "ipython",
    "version": 3
   },
   "file_extension": ".py",
   "mimetype": "text/x-python",
   "name": "python",
   "nbconvert_exporter": "python",
   "pygments_lexer": "ipython3",
   "version": "3.5.4"
  }
 },
 "nbformat": 4,
 "nbformat_minor": 0
}
