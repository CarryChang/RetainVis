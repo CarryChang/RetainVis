{
 "cells": [
  {
   "cell_type": "code",
   "execution_count": 1,
   "metadata": {
    "collapsed": true
   },
   "outputs": [],
   "source": [
    "import sqlite3\n",
    "import os\n",
    "import pickle\n",
    "\n",
    "db_dir = '/home/mjc/github/EHRVis/data/database/'\n",
    "processed_dir = '/home/mjc/github/EHRVis/data/preprocessed/'\n",
    "dict_dir = '/home/mjc/github/EHRVis/data/dictionaries/'\n",
    "years = [2014,2015]"
   ]
  },
  {
   "cell_type": "code",
   "execution_count": 2,
   "metadata": {
    "collapsed": true
   },
   "outputs": [],
   "source": [
    "# functions\n",
    "def remove_unknown(lst):\n",
    "    lst = list(set(lst))\n",
    "    for item in [0,500,768]:\n",
    "        if item in lst:\n",
    "            lst.remove(item)\n",
    "    if len(lst)==0:\n",
    "        return [0]\n",
    "    else:\n",
    "        return lst\n",
    "\n",
    "def get_classified_sickness(sample,alphabet_dict1,alphabet_dict2):\n",
    "    if len(sample)<3:\n",
    "        return 0\n",
    "    c, num = sample[0],int(sample[1:])\n",
    "    for i,rng in enumerate(alphabet_dict1[c]):\n",
    "        if '-' in rng:\n",
    "            lower, upper = rng.split('-')\n",
    "            lower = int(lower[1:])\n",
    "            upper = int(upper[1:])\n",
    "            if (lower<=num) & (upper>=num):\n",
    "                answer = alphabet_dict2[c][i]\n",
    "                return answer\n",
    "        else:\n",
    "            if num==int(rng[1:]):\n",
    "                answer = alphabet_dict2[c][i]\n",
    "                return answer\n",
    "    return 0\n",
    "\n",
    "def to_dict_idx(string, data_type, D):\n",
    "    if data_type=='diag':\n",
    "        try:\n",
    "            out = D[string]\n",
    "            return out\n",
    "        except KeyError:\n",
    "            return 0\n",
    "    elif data_type=='sick':\n",
    "        try:\n",
    "            out = get_classified_sickness(string, D[0],D[1])\n",
    "            return out+500\n",
    "        except KeyError:\n",
    "            return 500\n",
    "    elif data_type=='pres':\n",
    "        try:\n",
    "            out = D[string]\n",
    "            return out + 768\n",
    "        except KeyError:\n",
    "            return 768"
   ]
  },
  {
   "cell_type": "code",
   "execution_count": 3,
   "metadata": {
    "collapsed": false
   },
   "outputs": [],
   "source": [
    "# 0 - open database\n",
    "year = years[1]\n",
    "con = sqlite3.connect(os.path.join(db_dir,('%d.db' %year)))\n",
    "cur = con.cursor()\n",
    "con.text_factory = str"
   ]
  },
  {
   "cell_type": "code",
   "execution_count": null,
   "metadata": {
    "collapsed": false
   },
   "outputs": [
    {
     "name": "stdout",
     "output_type": "stream",
     "text": [
      "Select all ids from main table\n"
     ]
    }
   ],
   "source": [
    "# 1 - select all ids from main_table\n",
    "print('Select all ids from main table')\n",
    "cur.execute('SELECT jid,id,to_date,msick_ab,fom FROM main_table WHERE to_date IS NOT NULL ORDER BY jid,to_date')\n",
    "rows = cur.fetchall()\n",
    "rows2 = []\n",
    "# we omit visits without an end date\n",
    "for tup in rows:\n",
    "    if len(str(tup[2]))==8:\n",
    "        if (tup[4]==31)|(tup[4]==21):\n",
    "            rows2.append(tup)\n",
    "del rows"
   ]
  },
  {
   "cell_type": "code",
   "execution_count": null,
   "metadata": {
    "collapsed": false
   },
   "outputs": [],
   "source": [
    "# 2 - remove events that happen more than once\n",
    "tup = rows2[0]\n",
    "prev_date = tup[2]\n",
    "rows3 = [tup]\n",
    "for i,tup in enumerate(rows2):\n",
    "    if prev_date!=tup[2]:\n",
    "        rows3.append(tup)\n",
    "    prev_date = tup[2]\n",
    "del rows2"
   ]
  },
  {
   "cell_type": "code",
   "execution_count": null,
   "metadata": {
    "collapsed": false,
    "scrolled": true
   },
   "outputs": [],
   "source": [
    "# 3 - replace current msick with msick of next stage\n",
    "jid_list , id_list, date_list, out_list, fom_list = zip(*rows3)\n",
    "list1 = zip(jid_list[:-1],id_list[:-1],date_list[:-1],fom_list[:-1],out_list[1:])\n",
    "del jid_list, id_list, date_list, fom_list\n",
    "del rows3\n",
    "with open(os.path.join(processed_dir,'%d_list1.pckl'%year),'wb') as f:\n",
    "    pickle.dump(list1,f)"
   ]
  },
  {
   "cell_type": "code",
   "execution_count": null,
   "metadata": {
    "collapsed": false,
    "scrolled": true
   },
   "outputs": [],
   "source": [
    "# 4 - create list of all tuples\n",
    "with open(os.path.join(processed_dir,'%d_list1.pckl'%year),'rb') as f:\n",
    "    list1 = pickle.load(f)\n",
    "list2 = []\n",
    "with open(os.path.join(dict_dir,'d2i.pckl'),'rb') as f:\n",
    "    d2i = pickle.load(f)\n",
    "with open(os.path.join(dict_dir,'sick_converter.pckl'),'rb') as f:\n",
    "    s2i = pickle.load(f)\n",
    "with open(os.path.join(dict_dir,'p2i.pckl'),'rb') as f:\n",
    "    p2i = pickle.load(f)\n",
    "cnt = 0\n",
    "import time\n",
    "start = time.time()\n",
    "for tup in list1: # for every tuple\n",
    "    cnt+=1\n",
    "    jid,id,date,fom,out = tup\n",
    "    out_list = [] # get list for each tup\n",
    "    # get list of diagnosis for each visit\n",
    "    cur.execute('SELECT div_code FROM diag_table WHERE id IS %d'%id)\n",
    "    diag_list = cur.fetchall()\n",
    "    if len(diag_list)>0:\n",
    "        out_list.extend([to_dict_idx(str(x[0]).strip(),'diag',d2i) for x in diag_list])\n",
    "    # get list of sickness for each visit\n",
    "    cur.execute('SELECT sick_code_ab FROM sick_table WHERE id IS %d'%id)\n",
    "    sick_list = cur.fetchall()\n",
    "    if len(sick_list)>0: \n",
    "        out_list.extend([to_dict_idx(str(x[0]).strip(),'sick',s2i) for x in sick_list])\n",
    "    # get list of prescriptions for each visit\n",
    "    cur.execute('SELECT gnl_code FROM pres_table WHERE id IS %d'%id)\n",
    "    pres_list = cur.fetchall()\n",
    "    if len(pres_list)>0:\n",
    "        out_list.extend([to_dict_idx(str(x[0]).strip(),'pres',p2i) for x in pres_list])\n",
    "    # merge all to out_list\n",
    "    out_list = list(set(out_list))\n",
    "    out_list = remove_unknown(out_list)\n",
    "    out = to_dict_idx(out,'sick',s2i)-500\n",
    "    list2.append((jid,id,date,fom,out_list,out))\n",
    "    if cnt%100000==0:\n",
    "        print(cnt,time.time()-start)\n",
    "with open(os.path.join(processed_dir,'%d_list2.pckl'%year),'wb') as f:\n",
    "    pickle.dump(list2,f)\n",
    "del list1"
   ]
  },
  {
   "cell_type": "code",
   "execution_count": null,
   "metadata": {
    "collapsed": false
   },
   "outputs": [],
   "source": [
    "# 5 - create dict containing each jid\n",
    "out_dict = dict()\n",
    "current_jid = 1\n",
    "cnt = 0\n",
    "tmp1 = [] # dictionary value for current_jid\n",
    "for tup in list2:\n",
    "    cnt+=1\n",
    "    jid,id,date,fom,out_list,out = tup\n",
    "    if jid!=current_jid:\n",
    "        tmp1.pop(-1) # remove last item\n",
    "        out_dict[current_jid] = tmp1 # key-value\n",
    "        tmp1 = [] # reset tmp1\n",
    "        current_jid = jid # update jid\n",
    "    tmp1.append((date,fom,out_list,out))\n",
    "tmp1.pop(-1) # for last jid\n",
    "out_dict[current_jid] = tmp1\n",
    "with open(os.path.join(processed_dir,'%d_out_dict.pckl'%year),'wb') as f:\n",
    "    pickle.dump(out_dict,f)\n",
    "del list2"
   ]
  },
  {
   "cell_type": "code",
   "execution_count": null,
   "metadata": {
    "collapsed": false
   },
   "outputs": [],
   "source": [
    "# 6 - split data into train, val, test sets\n",
    "len_dict = dict()\n",
    "for k,v in out_dict.items():\n",
    "    l = len(v)\n",
    "    if l not in len_dict:\n",
    "        len_dict[l]=[k]\n",
    "    else:\n",
    "        len_dict[l].append(k)\n",
    "all_lengths = list(len_dict.keys())\n",
    "all_lengths = all_lengths[5:300]\n",
    "import random\n",
    "random.shuffle(all_lengths)\n",
    "# train/val/test: 70/5/25\n",
    "type_dict = dict()\n",
    "type_dict['train'] = all_lengths[:int(len(all_lengths)*0.7)]\n",
    "type_dict['val'] = all_lengths[int(len(all_lengths)*0.7):int(len(all_lengths)*0.75)]\n",
    "type_dict['test'] = all_lengths[int(len(all_lengths)*0.75):]\n",
    "types = ['train','test','val']\n",
    "for typ in types:\n",
    "    for item in type_dict[typ]:\n",
    "        jid_list = len_dict[item]\n",
    "        out_list = []\n",
    "        for jid in jid_list:\n",
    "            out_list.append(out_dict[jid])\n",
    "        with open('/home/mjc/github/EHRVis/data/batches/%s/%d_%d.pckl'%(typ,year,item),'wb') as f:\n",
    "            pickle.dump(out_list,f)\n",
    "del out_list, out_dict"
   ]
  },
  {
   "cell_type": "code",
   "execution_count": null,
   "metadata": {
    "collapsed": false
   },
   "outputs": [],
   "source": [
    "out_list[0]"
   ]
  },
  {
   "cell_type": "code",
   "execution_count": null,
   "metadata": {
    "collapsed": true
   },
   "outputs": [],
   "source": []
  }
 ],
 "metadata": {
  "kernelspec": {
   "display_name": "Python [ehr]",
   "language": "python",
   "name": "Python [ehr]"
  },
  "language_info": {
   "codemirror_mode": {
    "name": "ipython",
    "version": 3
   },
   "file_extension": ".py",
   "mimetype": "text/x-python",
   "name": "python",
   "nbconvert_exporter": "python",
   "pygments_lexer": "ipython3",
   "version": "3.5.4"
  }
 },
 "nbformat": 4,
 "nbformat_minor": 0
}
