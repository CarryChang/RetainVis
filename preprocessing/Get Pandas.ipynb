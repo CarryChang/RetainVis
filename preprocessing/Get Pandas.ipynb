{
 "cells": [
  {
   "cell_type": "code",
   "execution_count": 1,
   "metadata": {
    "collapsed": false
   },
   "outputs": [],
   "source": [
    "import os\n",
    "os.chdir('..')\n",
    "import pickle\n",
    "import numpy as np\n",
    "import pandas as pd\n",
    "from preprocessing.functions import *"
   ]
  },
  {
   "cell_type": "code",
   "execution_count": 2,
   "metadata": {
    "collapsed": false
   },
   "outputs": [],
   "source": [
    "import pickle\n",
    "with open('data/dictionaries/s2i.pckl','rb') as f:\n",
    "    s2i = pickle.load(f)\n",
    "with open('data/dictionaries/d2i.pckl','rb') as f:\n",
    "    d2i = pickle.load(f)\n",
    "with open('data/dictionaries/p2i.pckl','rb') as f:\n",
    "    p2i = pickle.load(f)\n",
    "with open('data/dictionaries/all2idx.pckl','rb') as f:\n",
    "    a2i = pickle.load(f)"
   ]
  },
  {
   "cell_type": "code",
   "execution_count": null,
   "metadata": {
    "collapsed": false
   },
   "outputs": [],
   "source": [
    "# for demo\n",
    "df_demo = pd.DataFrame(columns=['jid','agg','gender'])\n",
    "years = [2014,2015]\n",
    "months = np.arange(12)+1\n",
    "for year in years[1:]:\n",
    "    for month in months:\n",
    "        file = '/home/data/EHR/raw/SAMPLING_NPS_200_%d.txt' %(year*100+month)\n",
    "        df = pd.read_csv(file)\n",
    "        df = df[['JID','AGG','SEX_TP_CD']].dropna() # bits we will take\n",
    "        df.columns = ['jid','agg','gender']\n",
    "        df_demo = df_demo.append(df)\n",
    "df_demo = df_demo.drop_duplicates()"
   ]
  },
  {
   "cell_type": "code",
   "execution_count": null,
   "metadata": {
    "collapsed": false,
    "scrolled": true
   },
   "outputs": [],
   "source": [
    "with open('/home/data/EHR/db/%d_demo.pckl'%year,'wb') as f:\n",
    "    pickle.dump(df_demo,f)\n",
    "del df_demo"
   ]
  },
  {
   "cell_type": "code",
   "execution_count": null,
   "metadata": {
    "collapsed": false
   },
   "outputs": [],
   "source": [
    "# for main\n",
    "df_main = pd.DataFrame(columns=['spec_id','jid','msick','msick_ab','msick_idx','date'])\n",
    "years = [2014,2015]\n",
    "months = np.arange(12)+1\n",
    "for year in years[:1]:\n",
    "    for month in months:\n",
    "        file = '/home/data/EHR/raw/SAMPLING_NPS_200_%d.txt' %(year*100+month)\n",
    "        df = pd.read_csv(file)\n",
    "        # remove hospitalization cases\n",
    "        df = df[(df['FOM_TP_CD']==31)|(df['FOM_TP_CD']==51)|(df['FOM_TP_CD']==81)|\n",
    "           (df['FOM_TP_CD']==82)|(df['FOM_TP_CD']==83)|(df['FOM_TP_CD']==111)]\n",
    "        df = df[['SPEC_ID_SNO','JID','MSICK_CD','RECU_TO_DD']].dropna() # bits we will take\n",
    "        df.columns = ['spec_id','jid','msick','date']\n",
    "        sick = [s[:3] for s in df['msick']]\n",
    "        df['msick_ab'] = sick\n",
    "        df['msick_idx'] = [a2i[s] for s in sick]\n",
    "        df_main = df_main.append(df)"
   ]
  },
  {
   "cell_type": "code",
   "execution_count": null,
   "metadata": {
    "collapsed": false
   },
   "outputs": [],
   "source": [
    "with open('/home/data/EHR/db/%d_main.pckl'%year,'wb') as f:\n",
    "    pickle.dump(df_main,f)"
   ]
  },
  {
   "cell_type": "code",
   "execution_count": null,
   "metadata": {
    "collapsed": false
   },
   "outputs": [],
   "source": [
    "# for sick\n",
    "df_sick = pd.DataFrame(columns=['spec_id','sick','sick_ab','sick_idx'])\n",
    "years = [2014,2015]\n",
    "months = np.arange(12)+1\n",
    "for year in years[:1]:\n",
    "    for month in months:\n",
    "        file = '/home/data/EHR/raw/SAMPLING_NPS_400_%d.txt' %(year*100+month)\n",
    "        df = pd.read_csv(file)\n",
    "        df = df[['SPEC_ID_SNO','SICK_CD']].dropna() # bits we will take        \n",
    "        save_list = [i for i,x in enumerate(df['SICK_CD']) if len(x.strip())>1]\n",
    "        df = df.iloc[save_list]\n",
    "        df.columns = ['spec_id','sick']\n",
    "        sick = [s[:3] for s in df['sick']]\n",
    "        df['sick_ab'] = sick\n",
    "        df['sick_idx'] = [a2i[s] for s in sick]\n",
    "        df = df[df['sick_idx']!=0]\n",
    "        df_sick = df_sick.append(df)"
   ]
  },
  {
   "cell_type": "code",
   "execution_count": null,
   "metadata": {
    "collapsed": false
   },
   "outputs": [],
   "source": [
    "# for treat\n",
    "df_treat = pd.DataFrame(columns=['spec_id','treat'])\n",
    "years = [2014,2015]\n",
    "months = np.arange(12)+1\n",
    "for year in years[:1]:\n",
    "    for month in months:\n",
    "        file = '/home/data/EHR/raw/SAMPLING_NPS_300_%d.txt' %(year*100+month)\n",
    "        df = pd.read_csv(file)\n",
    "        df = df[['SPEC_ID_SNO','DIV_CD']].dropna() # bits we will take        \n",
    "        save_list = [i for i,v in enumerate(df['DIV_CD']) if len(v.strip())>1]\n",
    "        df = df.iloc[save_list]\n",
    "        df.columns = ['spec_id','treat']\n",
    "        treat = [str(s)[:5] for s in df['treat']]\n",
    "        tmp = []\n",
    "        for s in treat:\n",
    "            try:\n",
    "                s = a2i[s]\n",
    "            except KeyError:\n",
    "                s = 0\n",
    "            tmp.append(s)\n",
    "        df['treat'] = tmp\n",
    "        df = df[df['treat']!=0]\n",
    "        df_treat = df_treat.append(df)"
   ]
  },
  {
   "cell_type": "code",
   "execution_count": null,
   "metadata": {
    "collapsed": false
   },
   "outputs": [],
   "source": [
    "# for pres\n",
    "df_pres = pd.DataFrame(columns=['spec_id','pres'])\n",
    "years = [2014,2015]\n",
    "months = np.arange(12)+1\n",
    "for year in years[:1]:\n",
    "    for month in months:\n",
    "        file = '/home/data/EHR/raw/SAMPLING_NPS_300_%d.txt' %(year*100+month)\n",
    "        df = pd.read_csv(file)\n",
    "        df = df[['SPEC_ID_SNO','GNL_NM_CD']].dropna() # bits we will take        \n",
    "        save_list = [i for i,v in enumerate(df['GNL_NM_CD']) if len(v.strip())>1]\n",
    "        df = df.iloc[save_list]\n",
    "        df.columns = ['spec_id','pres']\n",
    "        pres = [str(s)[:4] for s in df['pres']]\n",
    "        tmp = []\n",
    "        for s in pres:\n",
    "            try:\n",
    "                s = a2i[s]\n",
    "            except KeyError:\n",
    "                s = 0\n",
    "            tmp.append(s)\n",
    "        df['pres'] = tmp\n",
    "        df = df[df['pres']!=0]\n",
    "#         print(len(df))\n",
    "        df_pres = df_pres.append(df)"
   ]
  },
  {
   "cell_type": "code",
   "execution_count": null,
   "metadata": {
    "collapsed": false
   },
   "outputs": [],
   "source": [
    "for year in years[:1]:\n",
    "    for month in months:\n",
    "        file = '/home/data/EHR/raw/SAMPLING_NPS_530_%d.txt' %(year*100+month)\n",
    "        df = pd.read_csv(file)\n",
    "#         print(len(df))\n",
    "        df = df[['SPEC_ID_SNO','GNL_NM_CD']].dropna() # bits we will take        \n",
    "        save_list = [i for i,v in enumerate(df['GNL_NM_CD']) if len(v.strip())>1]\n",
    "        df = df.iloc[save_list]\n",
    "#         print(len(df))\n",
    "        df.columns = ['spec_id','pres']\n",
    "        pres = [str(s)[:4] for s in df['pres']]\n",
    "        tmp = []\n",
    "        for s in pres:\n",
    "            try:\n",
    "                s = a2i[s]\n",
    "            except KeyError:\n",
    "                s = 0\n",
    "            tmp.append(s)\n",
    "        df['pres'] = tmp\n",
    "        df = df[df['pres']!=0]\n",
    "#         print(len(df))\n",
    "        df_pres = df_pres.append(df)"
   ]
  },
  {
   "cell_type": "code",
   "execution_count": null,
   "metadata": {
    "collapsed": false,
    "scrolled": true
   },
   "outputs": [],
   "source": [
    "import pickle\n",
    "with open('/home/data/EHR/db/%d_main.pckl'%year,'wb') as f:\n",
    "    pickle.dump(df_main,f)\n",
    "del df_main\n",
    "with open('/home/data/EHR/db/%d_sick.pckl'%year,'wb') as f:\n",
    "    pickle.dump(df_sick,f)\n",
    "del df_sick\n",
    "with open('/home/data/EHR/db/%d_treat.pckl'%year,'wb') as f:\n",
    "    pickle.dump(df_treat,f)\n",
    "del df_treat\n",
    "with open('/home/data/EHR/db/%d_pres.pckl'%year,'wb') as f:\n",
    "    pickle.dump(df_pres,f)\n",
    "del df_pres"
   ]
  },
  {
   "cell_type": "code",
   "execution_count": null,
   "metadata": {
    "collapsed": false
   },
   "outputs": [],
   "source": []
  },
  {
   "cell_type": "code",
   "execution_count": null,
   "metadata": {
    "collapsed": false
   },
   "outputs": [],
   "source": []
  },
  {
   "cell_type": "code",
   "execution_count": null,
   "metadata": {
    "collapsed": true
   },
   "outputs": [],
   "source": []
  },
  {
   "cell_type": "code",
   "execution_count": null,
   "metadata": {
    "collapsed": false
   },
   "outputs": [],
   "source": [
    "import pickle\n",
    "with open('/home/data/EHR/db/%d_main.pckl'%year,'rb') as f:\n",
    "    df_main = pickle.load(f)\n",
    "with open('/home/data/EHR/db/%d_pres.pckl'%year,'rb') as f:\n",
    "    df_pres = pickle.load(f)\n",
    "with open('/home/data/EHR/db/%d_sick.pckl'%year,'rb') as f:\n",
    "    df_sick = pickle.load(f)\n",
    "with open('/home/data/EHR/db/%d_treat.pckl'%year,'rb') as f:\n",
    "    df_treat = pickle.load(f)"
   ]
  },
  {
   "cell_type": "code",
   "execution_count": null,
   "metadata": {
    "collapsed": false
   },
   "outputs": [],
   "source": [
    "df_main = df_main[df_main.date<20160000]"
   ]
  },
  {
   "cell_type": "code",
   "execution_count": null,
   "metadata": {
    "collapsed": false
   },
   "outputs": [],
   "source": [
    "len(df_main)"
   ]
  },
  {
   "cell_type": "code",
   "execution_count": null,
   "metadata": {
    "collapsed": false
   },
   "outputs": [],
   "source": [
    "df_main = df_main.sort_values(['jid','date'],ascending=[True,True])\n",
    "df_sick = df_sick.sort_values(['spec_id'],ascending=[True])\n",
    "df_treat = df_treat.sort_values(['spec_id'],ascending=[True])\n",
    "df_pres = df_pres.sort_values(['spec_id'],ascending=[True])"
   ]
  },
  {
   "cell_type": "code",
   "execution_count": null,
   "metadata": {
    "collapsed": true
   },
   "outputs": [],
   "source": [
    "import sqlite3\n",
    "from pandas.io import sql"
   ]
  },
  {
   "cell_type": "code",
   "execution_count": null,
   "metadata": {
    "collapsed": false
   },
   "outputs": [],
   "source": [
    "# with open('/home/data/EHR/db/2014_main.pckl','rb') as f:\n",
    "#     df_main = pickle.load(f)\n",
    "with open('/home/data/EHR/db/2014_sick.pckl','rb') as f:\n",
    "    df_sick = pickle.load(f)\n",
    "with open('/home/data/EHR/db/2014_treat.pckl','rb') as f:\n",
    "    df_treat = pickle.load(f)\n",
    "with open('/home/data/EHR/db/2014_pres.pckl','rb') as f:\n",
    "    df_pres = pickle.load(f)"
   ]
  },
  {
   "cell_type": "code",
   "execution_count": null,
   "metadata": {
    "collapsed": false,
    "scrolled": true
   },
   "outputs": [],
   "source": [
    "import time"
   ]
  },
  {
   "cell_type": "code",
   "execution_count": null,
   "metadata": {
    "collapsed": false
   },
   "outputs": [],
   "source": [
    "# # create in-memory database\n",
    "# import time\n",
    "# start = time.time()\n",
    "# df_main.to_sql('main_table',con=con)\n",
    "# print(time.time()-start)\n",
    "# start = time.time()\n",
    "# df_sick.to_sql('sick_table',con=con)\n",
    "# print(time.time()-start)\n",
    "# start = time.time()\n",
    "# df_treat.to_sql('treat_table',con=con)\n",
    "# print(time.time()-start)\n",
    "# start = time.time()\n",
    "# df_pres.to_sql('pres_table',con=con)\n",
    "# print(time.time()-start)\n",
    "# # create indices\n",
    "# start = time.time()\n",
    "# cur.execute('CREATE INDEX idx_main ON main_table(spec_id)')\n",
    "# cur.execute('CREATE INDEX idx_sick ON sick_table(spec_id)')\n",
    "# cur.execute('CREATE INDEX idx_treat ON treat_table(spec_id)')\n",
    "# cur.execute('CREATE INDEX idx_pres ON pres_table(spec_id)')\n",
    "# print(time.time()-start)\n",
    "# con.commit()"
   ]
  },
  {
   "cell_type": "code",
   "execution_count": null,
   "metadata": {
    "collapsed": false
   },
   "outputs": [],
   "source": [
    "df_demo"
   ]
  },
  {
   "cell_type": "code",
   "execution_count": null,
   "metadata": {
    "collapsed": false
   },
   "outputs": [],
   "source": [
    "# create database\n",
    "import time\n",
    "years = [2014,2015]\n",
    "for year in years:\n",
    "    con = sqlite3.connect('/home/data/EHR/db/%d.db'%year)\n",
    "    cur = con.cursor()\n",
    "    con.text_factory = str\n",
    "    with open('/home/data/EHR/db/%d_demo.pckl'%year,'rb') as f:\n",
    "        df_main = pickle.load(f)\n",
    "    start = time.time()\n",
    "    cur.execute('DROP TABLE demo_table')\n",
    "    df_main.to_sql('demo_table',con=con)\n",
    "    print(time.time()-start)\n",
    "    # create indices\n",
    "    start = time.time()\n",
    "    cur.execute('CREATE INDEX idx_demo ON demo_table(jid)')\n",
    "    cur.execute('CREATE INDEX idx_demo2 ON demo_table(agg,gender)')\n",
    "    print(time.time()-start)\n",
    "    con.commit()\n",
    "    del df_main\n",
    "    con.close()"
   ]
  },
  {
   "cell_type": "code",
   "execution_count": null,
   "metadata": {
    "collapsed": false
   },
   "outputs": [],
   "source": [
    "# create database\n",
    "import time\n",
    "years = [2014,2015]\n",
    "for year in years:\n",
    "    con = sqlite3.connect('/home/data/EHR/db/%d.db'%year)\n",
    "    cur = con.cursor()\n",
    "    con.text_factory = str\n",
    "    with open('/home/data/EHR/db/%d_main.pckl'%year,'rb') as f:\n",
    "        df_main = pickle.load(f)\n",
    "    with open('/home/data/EHR/db/%d_pres.pckl'%year,'rb') as f:\n",
    "        df_pres = pickle.load(f)\n",
    "    with open('/home/data/EHR/db/%d_sick.pckl'%year,'rb') as f:\n",
    "        df_sick = pickle.load(f)\n",
    "    with open('/home/data/EHR/db/%d_treat.pckl'%year,'rb') as f:\n",
    "        df_treat = pickle.load(f)\n",
    "    start = time.time()\n",
    "    df_main.to_sql('main_table',con=con)\n",
    "    print(time.time()-start)\n",
    "    start = time.time()\n",
    "    df_sick.to_sql('sick_table',con=con)\n",
    "    print(time.time()-start)\n",
    "    start = time.time()\n",
    "    df_treat.to_sql('treat_table',con=con)\n",
    "    print(time.time()-start)\n",
    "    start = time.time()\n",
    "    df_pres.to_sql('pres_table',con=con)\n",
    "    print(time.time()-start)\n",
    "    # create indices\n",
    "    start = time.time()\n",
    "    cur.execute('CREATE INDEX idx_main ON main_table(spec_id)')\n",
    "    cur.execute('CREATE INDEX idx_sick ON sick_table(spec_id)')\n",
    "    cur.execute('CREATE INDEX idx_treat ON treat_table(spec_id)')\n",
    "    cur.execute('CREATE INDEX idx_pres ON pres_table(spec_id)')\n",
    "    print(time.time()-start)\n",
    "    con.commit()\n",
    "    del df_main\n",
    "    del df_pres\n",
    "    del df_sick\n",
    "    del df_treat\n",
    "    con.close()"
   ]
  },
  {
   "cell_type": "code",
   "execution_count": null,
   "metadata": {
    "collapsed": true
   },
   "outputs": [],
   "source": [
    "import sqlite3"
   ]
  },
  {
   "cell_type": "code",
   "execution_count": null,
   "metadata": {
    "collapsed": false,
    "scrolled": true
   },
   "outputs": [],
   "source": [
    "years = [2015]\n",
    "for year in years:\n",
    "    con = sqlite3.connect('/home/data/EHR/db/%d.db'%year)\n",
    "    cur = con.cursor()\n",
    "    con.text_factory = str\n",
    "    # 1 - select all ids from main_table\n",
    "    print('Select all ids from main table')\n",
    "    cur.execute('SELECT jid,spec_id,date,msick_idx FROM main_table')\n",
    "    rows = cur.fetchall()\n",
    "    \n",
    "    out_dict = dict()\n",
    "    cnt = 0\n",
    "    for row in rows:\n",
    "        cnt+=1\n",
    "        jid,id,date,msick_idx = row\n",
    "        if jid not in out_dict:\n",
    "            out_dict[jid] = []\n",
    "        cur.execute('SELECT treat FROM treat_table WHERE spec_id is %d' %id)\n",
    "        treat_list = [x[0] for x in cur.fetchall()]\n",
    "        cur.execute('SELECT sick_idx FROM sick_table WHERE spec_id is %d' %id)\n",
    "        sick_list = [x[0] for x in cur.fetchall()]\n",
    "        cur.execute('SELECT pres FROM pres_table WHERE spec_id is %d' %id)\n",
    "        pres_list = [x[0] for x in cur.fetchall()]\n",
    "        input_list = list(set(treat_list+sick_list+pres_list))\n",
    "        out_dict[jid].append((id,date,input_list,msick_idx))\n",
    "        if cnt%100000==0:\n",
    "            print(cnt)\n",
    "            \n",
    "    # sort list by dates (only realized now that they are unsorted)\n",
    "    out_dict[jid] = sorted(out_dict[jid], key=lambda x: x[1])\n",
    "    \n",
    "    print(\"Save as dictionary\")\n",
    "    with open('/home/data/EHR/db/out_dict_%d.pckl'%year,'wb') as f:\n",
    "        pickle.dump(out_dict,f)\n",
    "    del out_dict\n",
    "    con.close()"
   ]
  },
  {
   "cell_type": "code",
   "execution_count": null,
   "metadata": {
    "collapsed": true
   },
   "outputs": [],
   "source": []
  },
  {
   "cell_type": "code",
   "execution_count": null,
   "metadata": {
    "collapsed": false
   },
   "outputs": [],
   "source": [
    "with open('/home/data/EHR/db/out_dict_%d.pckl'%year,'wb') as f:\n",
    "    pickle.dump(out_dict,f)"
   ]
  },
  {
   "cell_type": "code",
   "execution_count": null,
   "metadata": {
    "collapsed": true
   },
   "outputs": [],
   "source": [
    "import pickle"
   ]
  },
  {
   "cell_type": "code",
   "execution_count": null,
   "metadata": {
    "collapsed": false
   },
   "outputs": [],
   "source": [
    "len(out_dict)"
   ]
  },
  {
   "cell_type": "code",
   "execution_count": null,
   "metadata": {
    "collapsed": false
   },
   "outputs": [],
   "source": [
    "import numpy as np\n",
    "import pandas as pd"
   ]
  },
  {
   "cell_type": "code",
   "execution_count": null,
   "metadata": {
    "collapsed": false
   },
   "outputs": [],
   "source": [
    "# for demo\n",
    "df_demo = pd.DataFrame(columns=['spec_id','jid','msick_ab','agg','gender'])\n",
    "years = [2014,2015]\n",
    "months = np.arange(12)+1\n",
    "for year in years[:1]:\n",
    "    for month in months:\n",
    "        file = '/home/data/EHR/raw/SAMPLING_NPS_200_%d.txt' %(year*100+month)\n",
    "        df = pd.read_csv(file)\n",
    "#         print(df.columns)\n",
    "        df = df[['SPEC_ID_SNO','JID','MSICK_CD','AGG','SEX_TP_CD']].dropna() # bits we will take\n",
    "        df.columns = ['spec_id','jid','msick_ab','agg','gender']\n",
    "        sick = [s[:3] for s in df['msick_ab']]\n",
    "        df['msick_ab'] = sick\n",
    "        df_demo = df_demo.append(df)"
   ]
  },
  {
   "cell_type": "code",
   "execution_count": null,
   "metadata": {
    "collapsed": false
   },
   "outputs": [],
   "source": [
    "import pickle\n",
    "with open('/home/data/EHR/db/%d_demo.pckl' %year,'wb') as f:\n",
    "    pickle.dump(df_demo,f)"
   ]
  },
  {
   "cell_type": "code",
   "execution_count": null,
   "metadata": {
    "collapsed": false
   },
   "outputs": [],
   "source": [
    "month"
   ]
  },
  {
   "cell_type": "code",
   "execution_count": null,
   "metadata": {
    "collapsed": true
   },
   "outputs": [],
   "source": []
  }
 ],
 "metadata": {
  "kernelspec": {
   "display_name": "Python [ehr]",
   "language": "python",
   "name": "Python [ehr]"
  },
  "language_info": {
   "codemirror_mode": {
    "name": "ipython",
    "version": 3
   },
   "file_extension": ".py",
   "mimetype": "text/x-python",
   "name": "python",
   "nbconvert_exporter": "python",
   "pygments_lexer": "ipython3",
   "version": "3.5.4"
  }
 },
 "nbformat": 4,
 "nbformat_minor": 0
}
